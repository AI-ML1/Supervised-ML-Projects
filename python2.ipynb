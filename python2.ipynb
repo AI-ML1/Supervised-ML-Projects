{
  "nbformat": 4,
  "nbformat_minor": 0,
  "metadata": {
    "colab": {
      "provenance": [],
      "authorship_tag": "ABX9TyOy9fz7FmmjZKqfaID3+ypz",
      "include_colab_link": true
    },
    "kernelspec": {
      "name": "python3",
      "display_name": "Python 3"
    },
    "language_info": {
      "name": "python"
    }
  },
  "cells": [
    {
      "cell_type": "markdown",
      "metadata": {
        "id": "view-in-github",
        "colab_type": "text"
      },
      "source": [
        "<a href=\"https://colab.research.google.com/github/AI-ML1/Supervised-ML-Projects/blob/main/python2.ipynb\" target=\"_parent\"><img src=\"https://colab.research.google.com/assets/colab-badge.svg\" alt=\"Open In Colab\"/></a>"
      ]
    },
    {
      "cell_type": "code",
      "execution_count": null,
      "metadata": {
        "id": "HmVid0XNo30-"
      },
      "outputs": [],
      "source": [
        "# prompt: 1,2,3,4,5\n",
        "\n",
        "# No code needed as the input is just a sequence of numbers.\n",
        "# If you want to perform an operation on these numbers, please provide the instructions.\n",
        "# For example, to store these numbers in a list and print them:\n",
        "my_list = [1, 2, 3, 4, 5]\n",
        "my_list"
      ]
    }
  ]
}