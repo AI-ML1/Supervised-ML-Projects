{
  "cells": [
    {
      "cell_type": "markdown",
      "metadata": {
        "id": "O0vhk4rT247y"
      },
      "source": [
        "**Car Price Prediction Using Supervised Machine Learning**\n",
        "\n",
        "\n",
        "---\n",
        "\n",
        "\n",
        "> Utilizing supervised machine learning techniques, particularly regression models, we analyze historical pricing data to identify key factors influencing car valuation. The model is trained and evaluated using different regression algorithms, including **Linear Regression**, **Decision Tree Regression**, and **Random Forest Regression**, to determine the most effective approach for price prediction.\n",
        "\n",
        "\n",
        "\n"
      ]
    },
    {
      "cell_type": "code",
      "execution_count": 368,
      "metadata": {
        "id": "4JR3PDwlp-ra"
      },
      "outputs": [],
      "source": [
        "# Calling librarries\n",
        "\n",
        "import pandas as pd\n",
        "import numpy as np\n",
        "import klib\n",
        "import matplotlib.pyplot as plt\n",
        "import seaborn as sns\n",
        "\n",
        "from sklearn.preprocessing import StandardScaler, LabelEncoder,OneHotEncoder\n",
        "from sklearn.tree import DecisionTreeRegressor\n",
        "from sklearn.model_selection import train_test_split,KFold,cross_val_score\n",
        "from sklearn.metrics import mean_absolute_error,mean_squared_error,r2_score\n",
        "from sklearn.feature_selection import mutual_info_regression\n",
        "from sklearn.linear_model import Ridge, Lasso\n",
        "from sklearn.datasets import make_regression\n",
        "from sklearn.linear_model import  LinearRegression\n"
      ]
    },
    {
      "cell_type": "markdown",
      "metadata": {
        "id": "VvtQW7vYp-rg"
      },
      "source": [
        "# Data processing"
      ]
    },
    {
      "cell_type": "code",
      "execution_count": 369,
      "metadata": {
        "id": "K0PZU1lap-re"
      },
      "outputs": [],
      "source": [
        "#df=pd.read_csv(\"/content/Supervised-ML-Projects/Car_Price_Regression_Supervised_ML/Car price.csv\")\n",
        "df = pd.read_csv(\"https://raw.githubusercontent.com/AI-ML1/Supervised-ML-Projects/main/Car_Price_Regression_Supervised_ML/Car%20price.csv\") "
      ]
    },
    {
      "cell_type": "code",
      "execution_count": 370,
      "metadata": {
        "colab": {
          "base_uri": "https://localhost:8080/",
          "height": 264
        },
        "id": "rD_xymvYp-re",
        "outputId": "64a41805-5fe8-4749-99c5-4ea572661709"
      },
      "outputs": [
        {
          "data": {
            "text/html": [
              "<div>\n",
              "<style scoped>\n",
              "    .dataframe tbody tr th:only-of-type {\n",
              "        vertical-align: middle;\n",
              "    }\n",
              "\n",
              "    .dataframe tbody tr th {\n",
              "        vertical-align: top;\n",
              "    }\n",
              "\n",
              "    .dataframe thead th {\n",
              "        text-align: right;\n",
              "    }\n",
              "</style>\n",
              "<table border=\"1\" class=\"dataframe\">\n",
              "  <thead>\n",
              "    <tr style=\"text-align: right;\">\n",
              "      <th></th>\n",
              "      <th>ID</th>\n",
              "      <th>Price</th>\n",
              "      <th>Levy</th>\n",
              "      <th>Manufacturer</th>\n",
              "      <th>Model</th>\n",
              "      <th>Prod. year</th>\n",
              "      <th>Category</th>\n",
              "      <th>Leather interior</th>\n",
              "      <th>Fuel type</th>\n",
              "      <th>Engine volume</th>\n",
              "      <th>Mileage</th>\n",
              "      <th>Cylinders</th>\n",
              "      <th>Gear box type</th>\n",
              "      <th>Drive wheels</th>\n",
              "      <th>Doors</th>\n",
              "      <th>Wheel</th>\n",
              "      <th>Color</th>\n",
              "      <th>Airbags</th>\n",
              "    </tr>\n",
              "  </thead>\n",
              "  <tbody>\n",
              "    <tr>\n",
              "      <th>0</th>\n",
              "      <td>45654403</td>\n",
              "      <td>13328</td>\n",
              "      <td>1399</td>\n",
              "      <td>LEXUS</td>\n",
              "      <td>RX 450</td>\n",
              "      <td>2010</td>\n",
              "      <td>Jeep</td>\n",
              "      <td>Yes</td>\n",
              "      <td>Hybrid</td>\n",
              "      <td>3.5</td>\n",
              "      <td>186005 km</td>\n",
              "      <td>6</td>\n",
              "      <td>Automatic</td>\n",
              "      <td>4x4</td>\n",
              "      <td>04-May</td>\n",
              "      <td>Left wheel</td>\n",
              "      <td>Silver</td>\n",
              "      <td>12</td>\n",
              "    </tr>\n",
              "    <tr>\n",
              "      <th>1</th>\n",
              "      <td>44731507</td>\n",
              "      <td>16621</td>\n",
              "      <td>1018</td>\n",
              "      <td>CHEVROLET</td>\n",
              "      <td>Equinox</td>\n",
              "      <td>2011</td>\n",
              "      <td>Jeep</td>\n",
              "      <td>No</td>\n",
              "      <td>Petrol</td>\n",
              "      <td>3</td>\n",
              "      <td>192000 km</td>\n",
              "      <td>6</td>\n",
              "      <td>Tiptronic</td>\n",
              "      <td>4x4</td>\n",
              "      <td>04-May</td>\n",
              "      <td>Left wheel</td>\n",
              "      <td>Black</td>\n",
              "      <td>8</td>\n",
              "    </tr>\n",
              "    <tr>\n",
              "      <th>2</th>\n",
              "      <td>45774419</td>\n",
              "      <td>8467</td>\n",
              "      <td>-</td>\n",
              "      <td>HONDA</td>\n",
              "      <td>FIT</td>\n",
              "      <td>2006</td>\n",
              "      <td>Hatchback</td>\n",
              "      <td>No</td>\n",
              "      <td>Petrol</td>\n",
              "      <td>1.3</td>\n",
              "      <td>200000 km</td>\n",
              "      <td>4</td>\n",
              "      <td>Variator</td>\n",
              "      <td>Front</td>\n",
              "      <td>04-May</td>\n",
              "      <td>Right-hand drive</td>\n",
              "      <td>Black</td>\n",
              "      <td>2</td>\n",
              "    </tr>\n",
              "  </tbody>\n",
              "</table>\n",
              "</div>"
            ],
            "text/plain": [
              "         ID  Price  Levy Manufacturer    Model  Prod. year   Category  \\\n",
              "0  45654403  13328  1399        LEXUS   RX 450        2010       Jeep   \n",
              "1  44731507  16621  1018    CHEVROLET  Equinox        2011       Jeep   \n",
              "2  45774419   8467     -        HONDA      FIT        2006  Hatchback   \n",
              "\n",
              "  Leather interior Fuel type Engine volume    Mileage  Cylinders  \\\n",
              "0              Yes    Hybrid           3.5  186005 km          6   \n",
              "1               No    Petrol             3  192000 km          6   \n",
              "2               No    Petrol           1.3  200000 km          4   \n",
              "\n",
              "  Gear box type Drive wheels   Doors             Wheel   Color  Airbags  \n",
              "0     Automatic          4x4  04-May        Left wheel  Silver       12  \n",
              "1     Tiptronic          4x4  04-May        Left wheel   Black        8  \n",
              "2      Variator        Front  04-May  Right-hand drive   Black        2  "
            ]
          },
          "execution_count": 370,
          "metadata": {},
          "output_type": "execute_result"
        }
      ],
      "source": [
        "df.head(3)"
      ]
    },
    {
      "cell_type": "code",
      "execution_count": 371,
      "metadata": {
        "colab": {
          "base_uri": "https://localhost:8080/"
        },
        "id": "GN1c6weIp-rf",
        "outputId": "511ae936-f2f5-4c4c-acfa-fc95b88916de"
      },
      "outputs": [
        {
          "name": "stdout",
          "output_type": "stream",
          "text": [
            "<class 'pandas.core.frame.DataFrame'>\n",
            "RangeIndex: 19237 entries, 0 to 19236\n",
            "Data columns (total 18 columns):\n",
            " #   Column            Non-Null Count  Dtype \n",
            "---  ------            --------------  ----- \n",
            " 0   ID                19237 non-null  int64 \n",
            " 1   Price             19237 non-null  int64 \n",
            " 2   Levy              19237 non-null  object\n",
            " 3   Manufacturer      19237 non-null  object\n",
            " 4   Model             19237 non-null  object\n",
            " 5   Prod. year        19237 non-null  int64 \n",
            " 6   Category          19237 non-null  object\n",
            " 7   Leather interior  19237 non-null  object\n",
            " 8   Fuel type         19237 non-null  object\n",
            " 9   Engine volume     19237 non-null  object\n",
            " 10  Mileage           19237 non-null  object\n",
            " 11  Cylinders         19237 non-null  int64 \n",
            " 12  Gear box type     19237 non-null  object\n",
            " 13  Drive wheels      19237 non-null  object\n",
            " 14  Doors             19237 non-null  object\n",
            " 15  Wheel             19237 non-null  object\n",
            " 16  Color             19237 non-null  object\n",
            " 17  Airbags           19237 non-null  int64 \n",
            "dtypes: int64(5), object(13)\n",
            "memory usage: 2.6+ MB\n"
          ]
        }
      ],
      "source": [
        "df.info()"
      ]
    },
    {
      "cell_type": "code",
      "execution_count": 372,
      "metadata": {
        "colab": {
          "base_uri": "https://localhost:8080/"
        },
        "id": "5jNflp9zp-rg",
        "outputId": "6e46767d-778f-4375-e661-3c8b33ab7175"
      },
      "outputs": [
        {
          "name": "stdout",
          "output_type": "stream",
          "text": [
            "Shape of cleaned data: (18924, 18) - Remaining NAs: 0\n",
            "\n",
            "\n",
            "Dropped rows: 313\n",
            "     of which 313 duplicates. (Rows (first 150 shown): [425, 1581, 1697, 1972, 2131, 2268, 2373, 2437, 2450, 2923, 2968, 3026, 3383, 3433, 3525, 3598, 3604, 3859, 3919, 4035, 4182, 4278, 4298, 4398, 4403, 4509, 4732, 4752, 4756, 4862, 4984, 5121, 5174, 5194, 5246, 5328, 5331, 5350, 5354, 5455, 5477, 5572, 5653, 5716, 5778, 5919, 5942, 5989, 6030, 6037, 6071, 6101, 6120, 6138, 6189, 6249, 6291, 6732, 6776, 6847, 6849, 6871, 7035, 7112, 7138, 7269, 7274, 7347, 7406, 7411, 7444, 7796, 7814, 7838, 7848, 7850, 7932, 7944, 7949, 7986, 8177, 8240, 8281, 8437, 8495, 8590, 8657, 8717, 8730, 8765, 9059, 9081, 9120, 9196, 9274, 9275, 9301, 9399, 9779, 9799, 9816, 9824, 9847, 9921, 9965, 9987, 10078, 10081, 10143, 10152, 10264, 10309, 10338, 10339, 10442, 10457, 10513, 10536, 10542, 10604, 10825, 10915, 10925, 10973, 10976, 11020, 11029, 11162, 11209, 11499, 11525, 11528, 11578, 11698, 11729, 11988, 12021, 12025, 12053, 12072, 12090, 12099, 12114, 12240, 12389, 12407, 12434, 12447, 12501, 12520])\n",
            "\n",
            "Dropped columns: 0\n",
            "     of which 0 single valued.     Columns: []\n",
            "Dropped missing values: 0\n",
            "Reduced memory by at least: 1.89 MB (-71.59%)\n",
            "\n"
          ]
        }
      ],
      "source": [
        "# Data cleaning with klib (remove duplicated rows and increasing memory usage of datset)\n",
        "\n",
        "df=klib.data_cleaning(df)"
      ]
    },
    {
      "cell_type": "code",
      "execution_count": 373,
      "metadata": {
        "colab": {
          "base_uri": "https://localhost:8080/"
        },
        "id": "_5cqJyvPp-rg",
        "outputId": "ec3bb30c-3bf8-49a9-ca67-908575aa2dd8"
      },
      "outputs": [
        {
          "name": "stdout",
          "output_type": "stream",
          "text": [
            "<class 'pandas.core.frame.DataFrame'>\n",
            "RangeIndex: 18924 entries, 0 to 18923\n",
            "Data columns (total 18 columns):\n",
            " #   Column            Non-Null Count  Dtype   \n",
            "---  ------            --------------  -----   \n",
            " 0   id                18924 non-null  int32   \n",
            " 1   price             18924 non-null  int32   \n",
            " 2   levy              18924 non-null  category\n",
            " 3   manufacturer      18924 non-null  category\n",
            " 4   model             18924 non-null  string  \n",
            " 5   prod_year         18924 non-null  int16   \n",
            " 6   category          18924 non-null  category\n",
            " 7   leather_interior  18924 non-null  category\n",
            " 8   fuel_type         18924 non-null  category\n",
            " 9   engine_volume     18924 non-null  category\n",
            " 10  mileage           18924 non-null  string  \n",
            " 11  cylinders         18924 non-null  int8    \n",
            " 12  gear_box_type     18924 non-null  category\n",
            " 13  drive_wheels      18924 non-null  category\n",
            " 14  doors             18924 non-null  category\n",
            " 15  wheel             18924 non-null  category\n",
            " 16  color             18924 non-null  category\n",
            " 17  airbags           18924 non-null  int8    \n",
            "dtypes: category(11), int16(1), int32(2), int8(2), string(2)\n",
            "memory usage: 769.5 KB\n"
          ]
        }
      ],
      "source": [
        "df.info()"
      ]
    },
    {
      "cell_type": "code",
      "execution_count": 374,
      "metadata": {
        "colab": {
          "base_uri": "https://localhost:8080/",
          "height": 678
        },
        "id": "6-yssDs8p-ri",
        "outputId": "423b004e-cb6c-4b63-a3b0-a1cc50092fad"
      },
      "outputs": [
        {
          "data": {
            "text/plain": [
              "id                  0\n",
              "price               0\n",
              "levy                0\n",
              "manufacturer        0\n",
              "model               0\n",
              "prod_year           0\n",
              "category            0\n",
              "leather_interior    0\n",
              "fuel_type           0\n",
              "engine_volume       0\n",
              "mileage             0\n",
              "cylinders           0\n",
              "gear_box_type       0\n",
              "drive_wheels        0\n",
              "doors               0\n",
              "wheel               0\n",
              "color               0\n",
              "airbags             0\n",
              "dtype: int64"
            ]
          },
          "execution_count": 374,
          "metadata": {},
          "output_type": "execute_result"
        }
      ],
      "source": [
        "# Finding missing values\n",
        "\n",
        "df.isnull().sum()"
      ]
    },
    {
      "cell_type": "code",
      "execution_count": 375,
      "metadata": {
        "colab": {
          "base_uri": "https://localhost:8080/"
        },
        "id": "kthiHh14p-ri",
        "outputId": "7bb64277-10d0-4928-bed8-00321dd7d0b9"
      },
      "outputs": [
        {
          "name": "stdout",
          "output_type": "stream",
          "text": [
            "CATEGORICAL COLUMNS: \n",
            "levy, manufacturer, model, category, leather_interior, fuel_type, engine_volume, mileage, gear_box_type, drive_wheels, doors, wheel, color\n",
            "\n",
            "TOTAL NUMBER OF CATEGORICAL COLUMNS: 13\n",
            "\n",
            "NUMERICAL COLUMNS: id, price, prod_year, cylinders, airbags\n",
            "\n",
            "TOTAL NUMBER OF NUMERICAL COLUMNS:5\n"
          ]
        }
      ],
      "source": [
        "# selecting categorical columns and numerical columns\n",
        "\n",
        "categorical_col=df.select_dtypes(include=[\"string\",\"category\"]).columns.tolist()\n",
        "print(f\"CATEGORICAL COLUMNS: \\n{', '.join(categorical_col)}\")\n",
        "print(f\"\\nTOTAL NUMBER OF CATEGORICAL COLUMNS: {len(categorical_col)}\") # object tipli ustunlarni umumiy soni\n",
        "\n",
        "numerical_col=df.select_dtypes(include=[\"int8\",\"int16\",\"int32\"]).columns.tolist()\n",
        "print(f\"\\nNUMERICAL COLUMNS: {', '.join(numerical_col)}\")\n",
        "print(f\"\\nTOTAL NUMBER OF NUMERICAL COLUMNS:{len(numerical_col)}\") # int va float tipidagi ustunlarni umumiy soni"
      ]
    },
    {
      "cell_type": "code",
      "execution_count": 376,
      "metadata": {
        "colab": {
          "base_uri": "https://localhost:8080/",
          "height": 326
        },
        "id": "Z684HoWS5d5n",
        "outputId": "31b79910-a58a-403e-9781-7aa536a779aa"
      },
      "outputs": [
        {
          "data": {
            "text/html": [
              "<div>\n",
              "<style scoped>\n",
              "    .dataframe tbody tr th:only-of-type {\n",
              "        vertical-align: middle;\n",
              "    }\n",
              "\n",
              "    .dataframe tbody tr th {\n",
              "        vertical-align: top;\n",
              "    }\n",
              "\n",
              "    .dataframe thead th {\n",
              "        text-align: right;\n",
              "    }\n",
              "</style>\n",
              "<table border=\"1\" class=\"dataframe\">\n",
              "  <thead>\n",
              "    <tr style=\"text-align: right;\">\n",
              "      <th></th>\n",
              "      <th>id</th>\n",
              "      <th>price</th>\n",
              "      <th>levy</th>\n",
              "      <th>manufacturer</th>\n",
              "      <th>model</th>\n",
              "      <th>prod_year</th>\n",
              "      <th>category</th>\n",
              "      <th>leather_interior</th>\n",
              "      <th>fuel_type</th>\n",
              "      <th>engine_volume</th>\n",
              "      <th>mileage</th>\n",
              "      <th>cylinders</th>\n",
              "      <th>gear_box_type</th>\n",
              "      <th>drive_wheels</th>\n",
              "      <th>doors</th>\n",
              "      <th>wheel</th>\n",
              "      <th>color</th>\n",
              "      <th>airbags</th>\n",
              "    </tr>\n",
              "  </thead>\n",
              "  <tbody>\n",
              "    <tr>\n",
              "      <th>0</th>\n",
              "      <td>45654403</td>\n",
              "      <td>13328</td>\n",
              "      <td>1399</td>\n",
              "      <td>LEXUS</td>\n",
              "      <td>RX 450</td>\n",
              "      <td>2010</td>\n",
              "      <td>Jeep</td>\n",
              "      <td>Yes</td>\n",
              "      <td>Hybrid</td>\n",
              "      <td>3.5</td>\n",
              "      <td>186005 km</td>\n",
              "      <td>6</td>\n",
              "      <td>Automatic</td>\n",
              "      <td>4x4</td>\n",
              "      <td>04-May</td>\n",
              "      <td>Left wheel</td>\n",
              "      <td>Silver</td>\n",
              "      <td>12</td>\n",
              "    </tr>\n",
              "    <tr>\n",
              "      <th>1</th>\n",
              "      <td>44731507</td>\n",
              "      <td>16621</td>\n",
              "      <td>1018</td>\n",
              "      <td>CHEVROLET</td>\n",
              "      <td>Equinox</td>\n",
              "      <td>2011</td>\n",
              "      <td>Jeep</td>\n",
              "      <td>No</td>\n",
              "      <td>Petrol</td>\n",
              "      <td>3</td>\n",
              "      <td>192000 km</td>\n",
              "      <td>6</td>\n",
              "      <td>Tiptronic</td>\n",
              "      <td>4x4</td>\n",
              "      <td>04-May</td>\n",
              "      <td>Left wheel</td>\n",
              "      <td>Black</td>\n",
              "      <td>8</td>\n",
              "    </tr>\n",
              "    <tr>\n",
              "      <th>2</th>\n",
              "      <td>45774419</td>\n",
              "      <td>8467</td>\n",
              "      <td>-</td>\n",
              "      <td>HONDA</td>\n",
              "      <td>FIT</td>\n",
              "      <td>2006</td>\n",
              "      <td>Hatchback</td>\n",
              "      <td>No</td>\n",
              "      <td>Petrol</td>\n",
              "      <td>1.3</td>\n",
              "      <td>200000 km</td>\n",
              "      <td>4</td>\n",
              "      <td>Variator</td>\n",
              "      <td>Front</td>\n",
              "      <td>04-May</td>\n",
              "      <td>Right-hand drive</td>\n",
              "      <td>Black</td>\n",
              "      <td>2</td>\n",
              "    </tr>\n",
              "    <tr>\n",
              "      <th>3</th>\n",
              "      <td>45769185</td>\n",
              "      <td>3607</td>\n",
              "      <td>862</td>\n",
              "      <td>FORD</td>\n",
              "      <td>Escape</td>\n",
              "      <td>2011</td>\n",
              "      <td>Jeep</td>\n",
              "      <td>Yes</td>\n",
              "      <td>Hybrid</td>\n",
              "      <td>2.5</td>\n",
              "      <td>168966 km</td>\n",
              "      <td>4</td>\n",
              "      <td>Automatic</td>\n",
              "      <td>4x4</td>\n",
              "      <td>04-May</td>\n",
              "      <td>Left wheel</td>\n",
              "      <td>White</td>\n",
              "      <td>0</td>\n",
              "    </tr>\n",
              "    <tr>\n",
              "      <th>4</th>\n",
              "      <td>45809263</td>\n",
              "      <td>11726</td>\n",
              "      <td>446</td>\n",
              "      <td>HONDA</td>\n",
              "      <td>FIT</td>\n",
              "      <td>2014</td>\n",
              "      <td>Hatchback</td>\n",
              "      <td>Yes</td>\n",
              "      <td>Petrol</td>\n",
              "      <td>1.3</td>\n",
              "      <td>91901 km</td>\n",
              "      <td>4</td>\n",
              "      <td>Automatic</td>\n",
              "      <td>Front</td>\n",
              "      <td>04-May</td>\n",
              "      <td>Left wheel</td>\n",
              "      <td>Silver</td>\n",
              "      <td>4</td>\n",
              "    </tr>\n",
              "  </tbody>\n",
              "</table>\n",
              "</div>"
            ],
            "text/plain": [
              "         id  price  levy manufacturer    model  prod_year   category  \\\n",
              "0  45654403  13328  1399        LEXUS   RX 450       2010       Jeep   \n",
              "1  44731507  16621  1018    CHEVROLET  Equinox       2011       Jeep   \n",
              "2  45774419   8467     -        HONDA      FIT       2006  Hatchback   \n",
              "3  45769185   3607   862         FORD   Escape       2011       Jeep   \n",
              "4  45809263  11726   446        HONDA      FIT       2014  Hatchback   \n",
              "\n",
              "  leather_interior fuel_type engine_volume    mileage  cylinders  \\\n",
              "0              Yes    Hybrid           3.5  186005 km          6   \n",
              "1               No    Petrol             3  192000 km          6   \n",
              "2               No    Petrol           1.3  200000 km          4   \n",
              "3              Yes    Hybrid           2.5  168966 km          4   \n",
              "4              Yes    Petrol           1.3   91901 km          4   \n",
              "\n",
              "  gear_box_type drive_wheels   doors             wheel   color  airbags  \n",
              "0     Automatic          4x4  04-May        Left wheel  Silver       12  \n",
              "1     Tiptronic          4x4  04-May        Left wheel   Black        8  \n",
              "2      Variator        Front  04-May  Right-hand drive   Black        2  \n",
              "3     Automatic          4x4  04-May        Left wheel   White        0  \n",
              "4     Automatic        Front  04-May        Left wheel  Silver        4  "
            ]
          },
          "execution_count": 376,
          "metadata": {},
          "output_type": "execute_result"
        }
      ],
      "source": [
        "df.head()"
      ]
    },
    {
      "cell_type": "markdown",
      "metadata": {
        "id": "uD89us0u_DQD"
      },
      "source": [
        "The columns **'levy', 'engine_volume', 'mileage', and 'doors'** have issues because, although they should be numerical, they are not properly formatted as numerical values."
      ]
    },
    {
      "cell_type": "code",
      "execution_count": 377,
      "metadata": {
        "colab": {
          "base_uri": "https://localhost:8080/",
          "height": 278
        },
        "id": "8ExDH39s7HRI",
        "outputId": "d761a1a7-ebf0-4e95-9e20-2e2058fb9be0"
      },
      "outputs": [
        {
          "data": {
            "text/plain": [
              "doors\n",
              "04-May    18032\n",
              "02-Mar      768\n",
              ">5          124\n",
              "Name: count, dtype: int64"
            ]
          },
          "execution_count": 377,
          "metadata": {},
          "output_type": "execute_result"
        }
      ],
      "source": [
        "df['doors'].value_counts()"
      ]
    },
    {
      "cell_type": "markdown",
      "metadata": {
        "id": "0z17YeaO_dYr"
      },
      "source": [
        "I choose to drop the **\"doors\"** column because it contains incorrect data."
      ]
    },
    {
      "cell_type": "code",
      "execution_count": 378,
      "metadata": {
        "id": "Jh2xxh-37q6x"
      },
      "outputs": [],
      "source": [
        "df = df.drop(columns='doors')"
      ]
    },
    {
      "cell_type": "code",
      "execution_count": 379,
      "metadata": {
        "colab": {
          "base_uri": "https://localhost:8080/",
          "height": 589
        },
        "id": "HKR2pHmAp-rj",
        "outputId": "525fa859-39b5-434b-ef67-4ebe4c62b5ea"
      },
      "outputs": [
        {
          "data": {
            "text/plain": [
              "levy\n",
              "-          5709\n",
              "765         481\n",
              "891         453\n",
              "639         403\n",
              "640         398\n",
              "           ... \n",
              "3015          1\n",
              "3025          1\n",
              "3057          1\n",
              "3112          1\n",
              "HYUNDAI       1\n",
              "Name: count, Length: 560, dtype: int64"
            ]
          },
          "execution_count": 379,
          "metadata": {},
          "output_type": "execute_result"
        }
      ],
      "source": [
        "df[\"levy\"].value_counts()"
      ]
    },
    {
      "cell_type": "code",
      "execution_count": 380,
      "metadata": {
        "colab": {
          "base_uri": "https://localhost:8080/",
          "height": 647
        },
        "id": "uoc7fTPHp-rj",
        "outputId": "2f8a6f21-0b30-45fb-974c-ab8274e1f856"
      },
      "outputs": [
        {
          "data": {
            "text/plain": [
              "id                     0\n",
              "price                  0\n",
              "levy                5710\n",
              "manufacturer           0\n",
              "model                  0\n",
              "prod_year              0\n",
              "category               0\n",
              "leather_interior       0\n",
              "fuel_type              0\n",
              "engine_volume          0\n",
              "mileage                0\n",
              "cylinders              0\n",
              "gear_box_type          0\n",
              "drive_wheels           0\n",
              "wheel                  0\n",
              "color                  0\n",
              "airbags                0\n",
              "dtype: int64"
            ]
          },
          "execution_count": 380,
          "metadata": {},
          "output_type": "execute_result"
        }
      ],
      "source": [
        "# Cleaning and handling \"levy\" column\n",
        "\n",
        "df['levy'] = pd.to_numeric(df['levy'], errors='coerce')\n",
        "\n",
        "df.isnull().sum()"
      ]
    },
    {
      "cell_type": "markdown",
      "metadata": {
        "id": "wZy6quJx-Etb"
      },
      "source": [
        "I choose to drop null values since there are 5,710 missing entries. Filling them using methods like `mean()` or `median()` could result in an unstable dataset."
      ]
    },
    {
      "cell_type": "code",
      "execution_count": 381,
      "metadata": {
        "id": "kUnyGEYp8_HV"
      },
      "outputs": [],
      "source": [
        "\n",
        "df.dropna(subset=['levy'], inplace=True)  # Drops rows where 'Price' is NaN\n"
      ]
    },
    {
      "cell_type": "code",
      "execution_count": 382,
      "metadata": {
        "colab": {
          "base_uri": "https://localhost:8080/",
          "height": 728
        },
        "id": "LVlO6Rb-p-rk",
        "outputId": "0e23474b-dd64-4e7c-89ad-24f199f17c4e"
      },
      "outputs": [
        {
          "data": {
            "text/plain": [
              "0        186005 km\n",
              "1        192000 km\n",
              "3        168966 km\n",
              "4         91901 km\n",
              "5        160931 km\n",
              "           ...    \n",
              "18918    107800 km\n",
              "18920    161600 km\n",
              "18921    116365 km\n",
              "18922     51258 km\n",
              "18923    186923 km\n",
              "Name: mileage, Length: 13214, dtype: string"
            ]
          },
          "execution_count": 382,
          "metadata": {},
          "output_type": "execute_result"
        }
      ],
      "source": [
        "df[\"mileage\"]"
      ]
    },
    {
      "cell_type": "code",
      "execution_count": 383,
      "metadata": {
        "id": "quYP8vIop-rl"
      },
      "outputs": [],
      "source": [
        "# cleaning \"mileage\" column from extra \"km\" word\n",
        "\n",
        "df['mileage']=df['mileage'].str.replace('km', '', regex=False)\n",
        "df['mileage'] = pd.to_numeric(df['mileage'], errors='coerce')"
      ]
    },
    {
      "cell_type": "code",
      "execution_count": 384,
      "metadata": {
        "colab": {
          "base_uri": "https://localhost:8080/",
          "height": 558
        },
        "id": "-HWRlfqTp-rl",
        "outputId": "84c08d6d-9e7f-457d-f2a5-63d97b0914ee"
      },
      "outputs": [
        {
          "data": {
            "text/plain": [
              "0        186005\n",
              "1        192000\n",
              "3        168966\n",
              "4         91901\n",
              "5        160931\n",
              "          ...  \n",
              "18918    107800\n",
              "18920    161600\n",
              "18921    116365\n",
              "18922     51258\n",
              "18923    186923\n",
              "Name: mileage, Length: 13214, dtype: Int64"
            ]
          },
          "execution_count": 384,
          "metadata": {},
          "output_type": "execute_result"
        }
      ],
      "source": [
        "df[\"mileage\"]"
      ]
    },
    {
      "cell_type": "markdown",
      "metadata": {
        "id": "xHSvCd5lFdZ8"
      },
      "source": [
        "In the **\"engine_volume\"** column, some data contains strings like **\"2.0 Turbo,\"** which is why it is categorized as a categorical variable. Instead of simply removing **\"Turbo\"** from the data to convert it into numerical values, I created a new column **\"is_turbo\"** to indicate whether the engine is turbocharged or not. This approach is more accurate and logical."
      ]
    },
    {
      "cell_type": "code",
      "execution_count": 385,
      "metadata": {
        "colab": {
          "base_uri": "https://localhost:8080/",
          "height": 558
        },
        "id": "C_9kIRlUp-rl",
        "outputId": "5508a3bf-c96d-4f0a-afff-8f1fefb81ad3"
      },
      "outputs": [
        {
          "data": {
            "text/plain": [
              "0        3.5\n",
              "1          3\n",
              "3        2.5\n",
              "4        1.3\n",
              "5          2\n",
              "        ... \n",
              "18918    3.5\n",
              "18920    2.4\n",
              "18921      2\n",
              "18922      2\n",
              "18923    2.4\n",
              "Name: engine_volume, Length: 13214, dtype: category\n",
              "Categories (107, object): ['0', '0.1', '0.2', '0.2 Turbo', ..., '6.4', '6.7', '6.8', '7.3']"
            ]
          },
          "execution_count": 385,
          "metadata": {},
          "output_type": "execute_result"
        }
      ],
      "source": [
        "df[\"engine_volume\"]"
      ]
    },
    {
      "cell_type": "code",
      "execution_count": 386,
      "metadata": {
        "id": "mEq-BHGIp-rm"
      },
      "outputs": [],
      "source": [
        "# Create a new 'turbo' column (1 if 'Turbo' is present, else 0)\n",
        "df['is_turbo'] = df['engine_volume'].apply(lambda x: 1 if 'Turbo' in x else 0)\n",
        "\n",
        "# Remove 'Turbo' and convert the 'engine' column to numeric\n",
        "df['engine_volume'] = df['engine_volume'].str.replace(' Turbo', '', regex=False).astype(float)\n"
      ]
    },
    {
      "cell_type": "code",
      "execution_count": 387,
      "metadata": {
        "colab": {
          "base_uri": "https://localhost:8080/"
        },
        "id": "1nvEi5rCp-rm",
        "outputId": "685370c8-7308-4b4a-ea9e-08542f79a650"
      },
      "outputs": [
        {
          "name": "stdout",
          "output_type": "stream",
          "text": [
            "<class 'pandas.core.frame.DataFrame'>\n",
            "Index: 13214 entries, 0 to 18923\n",
            "Data columns (total 18 columns):\n",
            " #   Column            Non-Null Count  Dtype   \n",
            "---  ------            --------------  -----   \n",
            " 0   id                13214 non-null  int32   \n",
            " 1   price             13214 non-null  int32   \n",
            " 2   levy              13214 non-null  float64 \n",
            " 3   manufacturer      13214 non-null  category\n",
            " 4   model             13214 non-null  string  \n",
            " 5   prod_year         13214 non-null  int16   \n",
            " 6   category          13214 non-null  category\n",
            " 7   leather_interior  13214 non-null  category\n",
            " 8   fuel_type         13214 non-null  category\n",
            " 9   engine_volume     13214 non-null  float64 \n",
            " 10  mileage           13214 non-null  Int64   \n",
            " 11  cylinders         13214 non-null  int8    \n",
            " 12  gear_box_type     13214 non-null  category\n",
            " 13  drive_wheels      13214 non-null  category\n",
            " 14  wheel             13214 non-null  category\n",
            " 15  color             13214 non-null  category\n",
            " 16  airbags           13214 non-null  int8    \n",
            " 17  is_turbo          13214 non-null  int64   \n",
            "dtypes: Int64(1), category(8), float64(2), int16(1), int32(2), int64(1), int8(2), string(1)\n",
            "memory usage: 894.9 KB\n"
          ]
        }
      ],
      "source": [
        "df.info()"
      ]
    },
    {
      "cell_type": "code",
      "execution_count": 388,
      "metadata": {
        "id": "qhQRAUcDDNQ8"
      },
      "outputs": [],
      "source": [
        "df['model'] = df['model'].astype('category')\n",
        "\n",
        "df = df.drop(columns='id')"
      ]
    },
    {
      "cell_type": "code",
      "execution_count": 389,
      "metadata": {
        "colab": {
          "base_uri": "https://localhost:8080/"
        },
        "id": "dUinX--QDA8P",
        "outputId": "9cf208ff-91f2-4b96-a4ff-235999c70fc2"
      },
      "outputs": [
        {
          "name": "stdout",
          "output_type": "stream",
          "text": [
            "Shape of cleaned data: (10040, 17) - Remaining NAs: 0\n",
            "\n",
            "\n",
            "Dropped rows: 3174\n",
            "     of which 3174 duplicates. (Rows (first 150 shown): [192, 239, 264, 331, 347, 491, 497, 529, 530, 531, 540, 546, 654, 695, 733, 760, 779, 796, 800, 814, 815, 849, 879, 910, 913, 929, 986, 993, 1004, 1005, 1006, 1012, 1084, 1122, 1136, 1174, 1232, 1236, 1274, 1307, 1312, 1323, 1334, 1337, 1342, 1361, 1363, 1372, 1385, 1392, 1395, 1397, 1406, 1413, 1439, 1464, 1498, 1506, 1508, 1511, 1512, 1519, 1547, 1561, 1562, 1605, 1623, 1636, 1644, 1648, 1651, 1653, 1660, 1700, 1733, 1742, 1747, 1750, 1764, 1780, 1797, 1820, 1832, 1856, 1865, 1868, 1873, 1891, 1896, 1909, 1917, 1938, 1940, 1945, 1952, 1959, 1962, 1986, 1988, 1990, 1996, 1998, 2008, 2028, 2061, 2069, 2075, 2084, 2086, 2091, 2097, 2107, 2113, 2121, 2136, 2139, 2144, 2145, 2155, 2184, 2191, 2236, 2240, 2242, 2247, 2252, 2261, 2262, 2271, 2276, 2282, 2295, 2301, 2320, 2330, 2353, 2355, 2356, 2367, 2373, 2392, 2396, 2405, 2407, 2429, 2440, 2441, 2452, 2458, 2469])\n",
            "\n",
            "Dropped columns: 0\n",
            "     of which 0 single valued.     Columns: []\n",
            "Dropped missing values: 0\n",
            "Reduced memory by at least: 0.94 MB (-72.87%)\n",
            "\n"
          ]
        }
      ],
      "source": [
        "df = klib.data_cleaning(df)"
      ]
    },
    {
      "cell_type": "code",
      "execution_count": 390,
      "metadata": {
        "colab": {
          "base_uri": "https://localhost:8080/"
        },
        "id": "mbifv06nDDUL",
        "outputId": "45ba1483-2cbe-4d3e-daaf-0dc9a89ecf56"
      },
      "outputs": [
        {
          "name": "stdout",
          "output_type": "stream",
          "text": [
            "<class 'pandas.core.frame.DataFrame'>\n",
            "RangeIndex: 10040 entries, 0 to 10039\n",
            "Data columns (total 17 columns):\n",
            " #   Column            Non-Null Count  Dtype   \n",
            "---  ------            --------------  -----   \n",
            " 0   price             10040 non-null  int32   \n",
            " 1   levy              10040 non-null  float32 \n",
            " 2   manufacturer      10040 non-null  category\n",
            " 3   model             10040 non-null  category\n",
            " 4   prod_year         10040 non-null  int16   \n",
            " 5   category          10040 non-null  category\n",
            " 6   leather_interior  10040 non-null  category\n",
            " 7   fuel_type         10040 non-null  category\n",
            " 8   engine_volume     10040 non-null  float32 \n",
            " 9   mileage           10040 non-null  Int32   \n",
            " 10  cylinders         10040 non-null  int8    \n",
            " 11  gear_box_type     10040 non-null  category\n",
            " 12  drive_wheels      10040 non-null  category\n",
            " 13  wheel             10040 non-null  category\n",
            " 14  color             10040 non-null  category\n",
            " 15  airbags           10040 non-null  int8    \n",
            " 16  is_turbo          10040 non-null  int8    \n",
            "dtypes: Int32(1), category(9), float32(2), int16(1), int32(1), int8(3)\n",
            "memory usage: 356.9 KB\n"
          ]
        }
      ],
      "source": [
        "df.info()"
      ]
    },
    {
      "cell_type": "markdown",
      "metadata": {
        "id": "0YvhPuvkp-rn"
      },
      "source": [
        "# Visualization"
      ]
    },
    {
      "cell_type": "code",
      "execution_count": 391,
      "metadata": {
        "colab": {
          "base_uri": "https://localhost:8080/",
          "height": 711
        },
        "id": "pqZ9xyqmGuZL",
        "outputId": "d45a2b49-29d0-4703-b16b-bb8ca9dd311d"
      },
      "outputs": [
        {
          "data": {
            "image/png": "[encoded data removed]",
            "text/plain": [
              "<Figure size 1800x1000 with 6 Axes>"
            ]
          },
          "metadata": {},
          "output_type": "display_data"
        }
      ],
      "source": [
        "numerical_features = ['levy', 'prod_year', 'engine_volume', 'mileage', 'cylinders', 'airbags']\n",
        "fig, axes = plt.subplots(2, 3, figsize=(18, 10))\n",
        "\n",
        "for i, feature in enumerate(numerical_features):\n",
        "    row, col = i // 3, i % 3\n",
        "    sns.scatterplot(x=df[feature], y=df[\"price\"], ax=axes[row, col])\n",
        "    axes[row, col].set_title(f\"Price vs {feature}\")\n",
        "\n",
        "plt.tight_layout()\n",
        "plt.show()\n"
      ]
    },
    {
      "cell_type": "code",
      "execution_count": 392,
      "metadata": {
        "colab": {
          "base_uri": "https://localhost:8080/"
        },
        "id": "c6Ew562rGrCG",
        "outputId": "91e6fd7b-1374-4779-dbbd-31e18eacbab1"
      },
      "outputs": [
        {
          "name": "stdout",
          "output_type": "stream",
          "text": [
            "ANOVA Test for manufacturer: p-value = 0.0\n",
            "ANOVA Test for model: p-value = 0.0\n",
            "ANOVA Test for category: p-value = 4.646340348893078e-182\n",
            "ANOVA Test for leather_interior: p-value = 1.3152630951920498e-14\n",
            "ANOVA Test for fuel_type: p-value = 1.5816339899647806e-130\n",
            "ANOVA Test for gear_box_type: p-value = 1.0167687569844273e-55\n",
            "ANOVA Test for drive_wheels: p-value = 0.00010863064926368881\n",
            "ANOVA Test for wheel: p-value = 1.5936094444814223e-15\n",
            "ANOVA Test for color: p-value = 1.977408466262479e-23\n"
          ]
        }
      ],
      "source": [
        "from scipy import stats\n",
        "\n",
        "\n",
        "categorical_features=df.select_dtypes(include=[\"category\"]).columns.tolist()\n",
        "\n",
        "# Perform ANOVA test for each categorical feature\n",
        "for feature in categorical_features:\n",
        "    groups = [df['price'][df[feature] == category] for category in df[feature].unique()]\n",
        "    f_stat, p_value = stats.f_oneway(*groups)\n",
        "    print(f\"ANOVA Test for {feature}: p-value = {p_value}\")\n"
      ]
    },
    {
      "cell_type": "code",
      "execution_count": 393,
      "metadata": {
        "colab": {
          "base_uri": "https://localhost:8080/"
        },
        "id": "kjI8nl_QRyTF",
        "outputId": "eeb23e69-c469-4a1d-c937-6aa83cfaf1b6"
      },
      "outputs": [
        {
          "name": "stdout",
          "output_type": "stream",
          "text": [
            "levy             0.081064\n",
            "prod_year        0.300195\n",
            "engine_volume    0.106172\n",
            "mileage         -0.004808\n",
            "cylinders        0.067999\n",
            "airbags         -0.164225\n",
            "price            1.000000\n",
            "Name: price, dtype: float64\n"
          ]
        }
      ],
      "source": [
        "# Correlation between numerical features and target\n",
        "numerical_features = ['levy', 'prod_year', 'engine_volume', 'mileage', 'cylinders', 'airbags']  # Add numerical columns here\n",
        "correlation_matrix = df[numerical_features + ['price']].corr()\n",
        "\n",
        "# Display the correlation between the input and target (price)\n",
        "print(correlation_matrix['price'])\n"
      ]
    },
    {
      "cell_type": "code",
      "execution_count": 394,
      "metadata": {
        "colab": {
          "base_uri": "https://localhost:8080/",
          "height": 655
        },
        "id": "dSOceNRjfKrw",
        "outputId": "c3e2cc12-ada2-4013-c351-c0a2b4dcf5e6"
      },
      "outputs": [
        {
          "data": {
            "text/plain": [
              "<function matplotlib.pyplot.tight_layout(*, pad: 'float' = 1.08, h_pad: 'float | None' = None, w_pad: 'float | None' = None, rect: 'tuple[float, float, float, float] | None' = None) -> 'None'>"
            ]
          },
          "execution_count": 394,
          "metadata": {},
          "output_type": "execute_result"
        },
        {
          "data": {
            "image/png": "[encoded data removed]",
            "text/plain": [
              "<Figure size 2000x1000 with 4 Axes>"
            ]
          },
          "metadata": {},
          "output_type": "display_data"
        }
      ],
      "source": [
        "plt.figure(figsize=(20, 10))\n",
        "\n",
        "features = ['prod_year', 'engine_volume', 'cylinders', 'airbags']\n",
        "\n",
        "\n",
        "for i, col in enumerate(features, 1):\n",
        "    plt.subplot(len(features) // 2 + 1, 2, i)\n",
        "    sns.countplot(x=df[col])\n",
        "    plt.title(f'Distribution of {col}')\n",
        "    plt.xticks(rotation=45)\n",
        "\n",
        "\n",
        "plt.tight_layout"
      ]
    },
    {
      "cell_type": "markdown",
      "metadata": {
        "id": "T1m84YqFp-ro"
      },
      "source": [
        "# Encoding"
      ]
    },
    {
      "cell_type": "code",
      "execution_count": 395,
      "metadata": {
        "colab": {
          "base_uri": "https://localhost:8080/"
        },
        "id": "wCxxtigKp-rp",
        "outputId": "9e8e3066-108c-4d69-9f78-192673bf5014"
      },
      "outputs": [
        {
          "name": "stdout",
          "output_type": "stream",
          "text": [
            "<class 'pandas.core.frame.DataFrame'>\n",
            "RangeIndex: 10040 entries, 0 to 10039\n",
            "Data columns (total 17 columns):\n",
            " #   Column            Non-Null Count  Dtype   \n",
            "---  ------            --------------  -----   \n",
            " 0   price             10040 non-null  int32   \n",
            " 1   levy              10040 non-null  float32 \n",
            " 2   manufacturer      10040 non-null  category\n",
            " 3   model             10040 non-null  category\n",
            " 4   prod_year         10040 non-null  int16   \n",
            " 5   category          10040 non-null  category\n",
            " 6   leather_interior  10040 non-null  category\n",
            " 7   fuel_type         10040 non-null  category\n",
            " 8   engine_volume     10040 non-null  float32 \n",
            " 9   mileage           10040 non-null  Int32   \n",
            " 10  cylinders         10040 non-null  int8    \n",
            " 11  gear_box_type     10040 non-null  category\n",
            " 12  drive_wheels      10040 non-null  category\n",
            " 13  wheel             10040 non-null  category\n",
            " 14  color             10040 non-null  category\n",
            " 15  airbags           10040 non-null  int8    \n",
            " 16  is_turbo          10040 non-null  int8    \n",
            "dtypes: Int32(1), category(9), float32(2), int16(1), int32(1), int8(3)\n",
            "memory usage: 356.9 KB\n"
          ]
        }
      ],
      "source": [
        "df.info()"
      ]
    },
    {
      "cell_type": "code",
      "execution_count": 396,
      "metadata": {
        "colab": {
          "base_uri": "https://localhost:8080/"
        },
        "id": "LQCp-HFsp-rp",
        "outputId": "41ccfc25-d647-4387-841b-d3dad2f1d154"
      },
      "outputs": [
        {
          "name": "stdout",
          "output_type": "stream",
          "text": [
            "CATEGORICAL COLUMNS:\n",
            "['manufacturer', 'model', 'category', 'leather_interior', 'fuel_type', 'gear_box_type', 'drive_wheels', 'wheel', 'color']\n",
            "\n",
            "TOTAL NUMBER OF CATEGORICAL COLUMNS: 9\n"
          ]
        }
      ],
      "source": [
        "# Categorical columns\n",
        "\n",
        "categorical_col=df.select_dtypes(include=[\"category\"]).columns.tolist()\n",
        "\n",
        "print(f\"CATEGORICAL COLUMNS:\\n{categorical_col}\")\n",
        "print(f\"\\nTOTAL NUMBER OF CATEGORICAL COLUMNS: {len(categorical_col)}\")"
      ]
    },
    {
      "cell_type": "code",
      "execution_count": 397,
      "metadata": {
        "colab": {
          "base_uri": "https://localhost:8080/"
        },
        "id": "LASyk0c9p-rp",
        "outputId": "45f245b7-9dc8-4690-b984-cf827055e374"
      },
      "outputs": [
        {
          "name": "stdout",
          "output_type": "stream",
          "text": [
            "manufacturer         49\n",
            "model               793\n",
            "category             10\n",
            "leather_interior      2\n",
            "fuel_type             7\n",
            "gear_box_type         4\n",
            "drive_wheels          3\n",
            "wheel                 2\n",
            "color                16\n",
            "dtype: int64\n"
          ]
        }
      ],
      "source": [
        "# Finding cardinality\n",
        "\n",
        "cardinality=df[categorical_col].nunique()\n",
        "print(cardinality)"
      ]
    },
    {
      "cell_type": "code",
      "execution_count": 398,
      "metadata": {
        "id": "Ayuqgx_op-rq"
      },
      "outputs": [],
      "source": [
        "# Label encoding\n",
        "\n",
        "label_encoder=LabelEncoder()\n",
        "encoding_columns=[\"manufacturer\", \"model\", \"category\", \"color\", \"fuel_type\"] # Cardinalitysi yuqori bo'lgan columnlarni belgilab olib ularni label encoding qildim\n",
        "for col in encoding_columns:\n",
        "    df[col]=label_encoder.fit_transform(df[col])\n"
      ]
    },
    {
      "cell_type": "code",
      "execution_count": 399,
      "metadata": {
        "colab": {
          "base_uri": "https://localhost:8080/",
          "height": 453
        },
        "id": "3dYd0OY8p-rq",
        "outputId": "1b4ed89a-7a2d-4366-8e13-05145b094ba5"
      },
      "outputs": [
        {
          "data": {
            "text/plain": [
              "0        26\n",
              "1         6\n",
              "2        14\n",
              "3        17\n",
              "4        19\n",
              "         ..\n",
              "10035    35\n",
              "10036    45\n",
              "10037    19\n",
              "10038    19\n",
              "10039    19\n",
              "Name: manufacturer, Length: 10040, dtype: int64"
            ]
          },
          "execution_count": 399,
          "metadata": {},
          "output_type": "execute_result"
        }
      ],
      "source": [
        "df[\"manufacturer\"]"
      ]
    },
    {
      "cell_type": "code",
      "execution_count": 400,
      "metadata": {
        "colab": {
          "base_uri": "https://localhost:8080/"
        },
        "id": "d82hGFYgp-rr",
        "outputId": "f3ae050b-7d06-426c-c194-88c31228a23f"
      },
      "outputs": [
        {
          "name": "stdout",
          "output_type": "stream",
          "text": [
            "CATEGORICAL COLUMNS:\n",
            "['leather_interior', 'gear_box_type', 'drive_wheels', 'wheel']\n",
            "\n",
            "TOTAL NUMBER OF CATEGORICAL COLUMNS: 4\n"
          ]
        }
      ],
      "source": [
        "# Categorical columns\n",
        "# 9 tadan 4 taga kamaydi\n",
        "categorical_col=df.select_dtypes(include=[\"category\"]).columns.tolist()\n",
        "\n",
        "print(f\"CATEGORICAL COLUMNS:\\n{categorical_col}\")\n",
        "print(f\"\\nTOTAL NUMBER OF CATEGORICAL COLUMNS: {len(categorical_col)}\")"
      ]
    },
    {
      "cell_type": "code",
      "execution_count": 401,
      "metadata": {
        "id": "sgZYEYVkp-rr"
      },
      "outputs": [],
      "source": [
        "# Separate the categorical columns and numerical columns (float columns)\n",
        "df_categorical = df[categorical_col]\n",
        "df_numerical = df.drop(columns=categorical_col)\n",
        "\n",
        "# One-Hot Encode the categorical columns\n",
        "df_encoded = pd.get_dummies(df_categorical, drop_first=True)\n",
        "df_encoded= df_encoded.astype(int)\n",
        "\n",
        "# Concatenate the encoded categorical columns with the numerical ones (float columns)\n",
        "df_final = pd.concat([df_numerical, df_encoded], axis=1)\n",
        "\n",
        "\n",
        "\n"
      ]
    },
    {
      "cell_type": "code",
      "execution_count": 402,
      "metadata": {
        "colab": {
          "base_uri": "https://localhost:8080/",
          "height": 241
        },
        "id": "OsAVY92rp-rt",
        "outputId": "550eb3b5-0c5d-4017-b00e-815efd7ed9b2"
      },
      "outputs": [
        {
          "data": {
            "text/html": [
              "<div>\n",
              "<style scoped>\n",
              "    .dataframe tbody tr th:only-of-type {\n",
              "        vertical-align: middle;\n",
              "    }\n",
              "\n",
              "    .dataframe tbody tr th {\n",
              "        vertical-align: top;\n",
              "    }\n",
              "\n",
              "    .dataframe thead th {\n",
              "        text-align: right;\n",
              "    }\n",
              "</style>\n",
              "<table border=\"1\" class=\"dataframe\">\n",
              "  <thead>\n",
              "    <tr style=\"text-align: right;\">\n",
              "      <th></th>\n",
              "      <th>price</th>\n",
              "      <th>levy</th>\n",
              "      <th>manufacturer</th>\n",
              "      <th>model</th>\n",
              "      <th>prod_year</th>\n",
              "      <th>category</th>\n",
              "      <th>fuel_type</th>\n",
              "      <th>engine_volume</th>\n",
              "      <th>mileage</th>\n",
              "      <th>cylinders</th>\n",
              "      <th>color</th>\n",
              "      <th>airbags</th>\n",
              "      <th>is_turbo</th>\n",
              "      <th>leather_interior_Yes</th>\n",
              "      <th>gear_box_type_Manual</th>\n",
              "      <th>gear_box_type_Tiptronic</th>\n",
              "      <th>gear_box_type_Variator</th>\n",
              "      <th>drive_wheels_Front</th>\n",
              "      <th>drive_wheels_Rear</th>\n",
              "      <th>wheel_Right-hand drive</th>\n",
              "    </tr>\n",
              "  </thead>\n",
              "  <tbody>\n",
              "    <tr>\n",
              "      <th>0</th>\n",
              "      <td>13328</td>\n",
              "      <td>1399.0</td>\n",
              "      <td>26</td>\n",
              "      <td>629</td>\n",
              "      <td>2010</td>\n",
              "      <td>4</td>\n",
              "      <td>3</td>\n",
              "      <td>3.5</td>\n",
              "      <td>186005</td>\n",
              "      <td>6</td>\n",
              "      <td>12</td>\n",
              "      <td>12</td>\n",
              "      <td>0</td>\n",
              "      <td>1</td>\n",
              "      <td>0</td>\n",
              "      <td>0</td>\n",
              "      <td>0</td>\n",
              "      <td>0</td>\n",
              "      <td>0</td>\n",
              "      <td>0</td>\n",
              "    </tr>\n",
              "    <tr>\n",
              "      <th>1</th>\n",
              "      <td>16621</td>\n",
              "      <td>1018.0</td>\n",
              "      <td>6</td>\n",
              "      <td>313</td>\n",
              "      <td>2011</td>\n",
              "      <td>4</td>\n",
              "      <td>5</td>\n",
              "      <td>3.0</td>\n",
              "      <td>192000</td>\n",
              "      <td>6</td>\n",
              "      <td>1</td>\n",
              "      <td>8</td>\n",
              "      <td>0</td>\n",
              "      <td>0</td>\n",
              "      <td>0</td>\n",
              "      <td>1</td>\n",
              "      <td>0</td>\n",
              "      <td>0</td>\n",
              "      <td>0</td>\n",
              "      <td>0</td>\n",
              "    </tr>\n",
              "    <tr>\n",
              "      <th>2</th>\n",
              "      <td>3607</td>\n",
              "      <td>862.0</td>\n",
              "      <td>14</td>\n",
              "      <td>316</td>\n",
              "      <td>2011</td>\n",
              "      <td>4</td>\n",
              "      <td>3</td>\n",
              "      <td>2.5</td>\n",
              "      <td>168966</td>\n",
              "      <td>4</td>\n",
              "      <td>14</td>\n",
              "      <td>0</td>\n",
              "      <td>0</td>\n",
              "      <td>1</td>\n",
              "      <td>0</td>\n",
              "      <td>0</td>\n",
              "      <td>0</td>\n",
              "      <td>0</td>\n",
              "      <td>0</td>\n",
              "      <td>0</td>\n",
              "    </tr>\n",
              "    <tr>\n",
              "      <th>3</th>\n",
              "      <td>11726</td>\n",
              "      <td>446.0</td>\n",
              "      <td>17</td>\n",
              "      <td>331</td>\n",
              "      <td>2014</td>\n",
              "      <td>3</td>\n",
              "      <td>5</td>\n",
              "      <td>1.3</td>\n",
              "      <td>91901</td>\n",
              "      <td>4</td>\n",
              "      <td>12</td>\n",
              "      <td>4</td>\n",
              "      <td>0</td>\n",
              "      <td>1</td>\n",
              "      <td>0</td>\n",
              "      <td>0</td>\n",
              "      <td>0</td>\n",
              "      <td>1</td>\n",
              "      <td>0</td>\n",
              "      <td>0</td>\n",
              "    </tr>\n",
              "    <tr>\n",
              "      <th>4</th>\n",
              "      <td>39493</td>\n",
              "      <td>891.0</td>\n",
              "      <td>19</td>\n",
              "      <td>652</td>\n",
              "      <td>2016</td>\n",
              "      <td>4</td>\n",
              "      <td>2</td>\n",
              "      <td>2.0</td>\n",
              "      <td>160931</td>\n",
              "      <td>4</td>\n",
              "      <td>14</td>\n",
              "      <td>4</td>\n",
              "      <td>0</td>\n",
              "      <td>1</td>\n",
              "      <td>0</td>\n",
              "      <td>0</td>\n",
              "      <td>0</td>\n",
              "      <td>1</td>\n",
              "      <td>0</td>\n",
              "      <td>0</td>\n",
              "    </tr>\n",
              "  </tbody>\n",
              "</table>\n",
              "</div>"
            ],
            "text/plain": [
              "   price    levy  manufacturer  model  prod_year  category  fuel_type  \\\n",
              "0  13328  1399.0            26    629       2010         4          3   \n",
              "1  16621  1018.0             6    313       2011         4          5   \n",
              "2   3607   862.0            14    316       2011         4          3   \n",
              "3  11726   446.0            17    331       2014         3          5   \n",
              "4  39493   891.0            19    652       2016         4          2   \n",
              "\n",
              "   engine_volume  mileage  cylinders  color  airbags  is_turbo  \\\n",
              "0            3.5   186005          6     12       12         0   \n",
              "1            3.0   192000          6      1        8         0   \n",
              "2            2.5   168966          4     14        0         0   \n",
              "3            1.3    91901          4     12        4         0   \n",
              "4            2.0   160931          4     14        4         0   \n",
              "\n",
              "   leather_interior_Yes  gear_box_type_Manual  gear_box_type_Tiptronic  \\\n",
              "0                     1                     0                        0   \n",
              "1                     0                     0                        1   \n",
              "2                     1                     0                        0   \n",
              "3                     1                     0                        0   \n",
              "4                     1                     0                        0   \n",
              "\n",
              "   gear_box_type_Variator  drive_wheels_Front  drive_wheels_Rear  \\\n",
              "0                       0                   0                  0   \n",
              "1                       0                   0                  0   \n",
              "2                       0                   0                  0   \n",
              "3                       0                   1                  0   \n",
              "4                       0                   1                  0   \n",
              "\n",
              "   wheel_Right-hand drive  \n",
              "0                       0  \n",
              "1                       0  \n",
              "2                       0  \n",
              "3                       0  \n",
              "4                       0  "
            ]
          },
          "execution_count": 402,
          "metadata": {},
          "output_type": "execute_result"
        }
      ],
      "source": [
        "df_final.head()"
      ]
    },
    {
      "cell_type": "code",
      "execution_count": 403,
      "metadata": {
        "colab": {
          "base_uri": "https://localhost:8080/"
        },
        "id": "mEZ7I-NSVpzp",
        "outputId": "27a47d70-17e9-4647-c8a0-58011bfa8477"
      },
      "outputs": [
        {
          "name": "stdout",
          "output_type": "stream",
          "text": [
            "Shape of cleaned data: (10040, 20) - Remaining NAs: 0\n",
            "\n",
            "\n",
            "Dropped rows: 0\n",
            "     of which 0 duplicates. (Rows (first 150 shown): [])\n",
            "\n",
            "Dropped columns: 0\n",
            "     of which 0 single valued.     Columns: []\n",
            "Dropped missing values: 0\n",
            "Reduced memory by at least: 0.79 MB (-69.91%)\n",
            "\n"
          ]
        }
      ],
      "source": [
        "df_final = klib.data_cleaning(df_final)"
      ]
    },
    {
      "cell_type": "code",
      "execution_count": 404,
      "metadata": {
        "colab": {
          "base_uri": "https://localhost:8080/"
        },
        "id": "if1V10P5p-rt",
        "outputId": "7493ce55-8424-4450-a830-175f20200027"
      },
      "outputs": [
        {
          "name": "stdout",
          "output_type": "stream",
          "text": [
            "<class 'pandas.core.frame.DataFrame'>\n",
            "RangeIndex: 10040 entries, 0 to 10039\n",
            "Data columns (total 20 columns):\n",
            " #   Column                   Non-Null Count  Dtype  \n",
            "---  ------                   --------------  -----  \n",
            " 0   price                    10040 non-null  int32  \n",
            " 1   levy                     10040 non-null  float32\n",
            " 2   manufacturer             10040 non-null  int8   \n",
            " 3   model                    10040 non-null  int16  \n",
            " 4   prod_year                10040 non-null  int16  \n",
            " 5   category                 10040 non-null  int8   \n",
            " 6   fuel_type                10040 non-null  int8   \n",
            " 7   engine_volume            10040 non-null  float32\n",
            " 8   mileage                  10040 non-null  Int32  \n",
            " 9   cylinders                10040 non-null  int8   \n",
            " 10  color                    10040 non-null  int8   \n",
            " 11  airbags                  10040 non-null  int8   \n",
            " 12  is_turbo                 10040 non-null  int8   \n",
            " 13  leather_interior_yes     10040 non-null  int8   \n",
            " 14  gear_box_type_manual     10040 non-null  int8   \n",
            " 15  gear_box_type_tiptronic  10040 non-null  int8   \n",
            " 16  gear_box_type_variator   10040 non-null  int8   \n",
            " 17  drive_wheels_front       10040 non-null  int8   \n",
            " 18  drive_wheels_rear        10040 non-null  int8   \n",
            " 19  wheel_right_hand_drive   10040 non-null  int8   \n",
            "dtypes: Int32(1), float32(2), int16(2), int32(1), int8(14)\n",
            "memory usage: 343.3 KB\n"
          ]
        }
      ],
      "source": [
        "df_final.info()"
      ]
    },
    {
      "cell_type": "markdown",
      "metadata": {
        "id": "qRqlzszGp-rt"
      },
      "source": [
        "# Scaling"
      ]
    },
    {
      "cell_type": "code",
      "execution_count": 405,
      "metadata": {
        "colab": {
          "base_uri": "https://localhost:8080/",
          "height": 224
        },
        "id": "aU-grvY9YgLx",
        "outputId": "364d54d5-d177-4442-cb54-fafb6fa2a21b"
      },
      "outputs": [
        {
          "data": {
            "text/html": [
              "<div>\n",
              "<style scoped>\n",
              "    .dataframe tbody tr th:only-of-type {\n",
              "        vertical-align: middle;\n",
              "    }\n",
              "\n",
              "    .dataframe tbody tr th {\n",
              "        vertical-align: top;\n",
              "    }\n",
              "\n",
              "    .dataframe thead th {\n",
              "        text-align: right;\n",
              "    }\n",
              "</style>\n",
              "<table border=\"1\" class=\"dataframe\">\n",
              "  <thead>\n",
              "    <tr style=\"text-align: right;\">\n",
              "      <th></th>\n",
              "      <th>price</th>\n",
              "      <th>levy</th>\n",
              "      <th>manufacturer</th>\n",
              "      <th>model</th>\n",
              "      <th>prod_year</th>\n",
              "      <th>category</th>\n",
              "      <th>fuel_type</th>\n",
              "      <th>engine_volume</th>\n",
              "      <th>mileage</th>\n",
              "      <th>cylinders</th>\n",
              "      <th>color</th>\n",
              "      <th>airbags</th>\n",
              "      <th>is_turbo</th>\n",
              "      <th>leather_interior_yes</th>\n",
              "      <th>gear_box_type_manual</th>\n",
              "      <th>gear_box_type_tiptronic</th>\n",
              "      <th>gear_box_type_variator</th>\n",
              "      <th>drive_wheels_front</th>\n",
              "      <th>drive_wheels_rear</th>\n",
              "      <th>wheel_right_hand_drive</th>\n",
              "    </tr>\n",
              "  </thead>\n",
              "  <tbody>\n",
              "    <tr>\n",
              "      <th>0</th>\n",
              "      <td>13328</td>\n",
              "      <td>1399.0</td>\n",
              "      <td>26</td>\n",
              "      <td>629</td>\n",
              "      <td>2010</td>\n",
              "      <td>4</td>\n",
              "      <td>3</td>\n",
              "      <td>3.5</td>\n",
              "      <td>186005</td>\n",
              "      <td>6</td>\n",
              "      <td>12</td>\n",
              "      <td>12</td>\n",
              "      <td>0</td>\n",
              "      <td>1</td>\n",
              "      <td>0</td>\n",
              "      <td>0</td>\n",
              "      <td>0</td>\n",
              "      <td>0</td>\n",
              "      <td>0</td>\n",
              "      <td>0</td>\n",
              "    </tr>\n",
              "    <tr>\n",
              "      <th>1</th>\n",
              "      <td>16621</td>\n",
              "      <td>1018.0</td>\n",
              "      <td>6</td>\n",
              "      <td>313</td>\n",
              "      <td>2011</td>\n",
              "      <td>4</td>\n",
              "      <td>5</td>\n",
              "      <td>3.0</td>\n",
              "      <td>192000</td>\n",
              "      <td>6</td>\n",
              "      <td>1</td>\n",
              "      <td>8</td>\n",
              "      <td>0</td>\n",
              "      <td>0</td>\n",
              "      <td>0</td>\n",
              "      <td>1</td>\n",
              "      <td>0</td>\n",
              "      <td>0</td>\n",
              "      <td>0</td>\n",
              "      <td>0</td>\n",
              "    </tr>\n",
              "    <tr>\n",
              "      <th>2</th>\n",
              "      <td>3607</td>\n",
              "      <td>862.0</td>\n",
              "      <td>14</td>\n",
              "      <td>316</td>\n",
              "      <td>2011</td>\n",
              "      <td>4</td>\n",
              "      <td>3</td>\n",
              "      <td>2.5</td>\n",
              "      <td>168966</td>\n",
              "      <td>4</td>\n",
              "      <td>14</td>\n",
              "      <td>0</td>\n",
              "      <td>0</td>\n",
              "      <td>1</td>\n",
              "      <td>0</td>\n",
              "      <td>0</td>\n",
              "      <td>0</td>\n",
              "      <td>0</td>\n",
              "      <td>0</td>\n",
              "      <td>0</td>\n",
              "    </tr>\n",
              "    <tr>\n",
              "      <th>3</th>\n",
              "      <td>11726</td>\n",
              "      <td>446.0</td>\n",
              "      <td>17</td>\n",
              "      <td>331</td>\n",
              "      <td>2014</td>\n",
              "      <td>3</td>\n",
              "      <td>5</td>\n",
              "      <td>1.3</td>\n",
              "      <td>91901</td>\n",
              "      <td>4</td>\n",
              "      <td>12</td>\n",
              "      <td>4</td>\n",
              "      <td>0</td>\n",
              "      <td>1</td>\n",
              "      <td>0</td>\n",
              "      <td>0</td>\n",
              "      <td>0</td>\n",
              "      <td>1</td>\n",
              "      <td>0</td>\n",
              "      <td>0</td>\n",
              "    </tr>\n",
              "    <tr>\n",
              "      <th>4</th>\n",
              "      <td>39493</td>\n",
              "      <td>891.0</td>\n",
              "      <td>19</td>\n",
              "      <td>652</td>\n",
              "      <td>2016</td>\n",
              "      <td>4</td>\n",
              "      <td>2</td>\n",
              "      <td>2.0</td>\n",
              "      <td>160931</td>\n",
              "      <td>4</td>\n",
              "      <td>14</td>\n",
              "      <td>4</td>\n",
              "      <td>0</td>\n",
              "      <td>1</td>\n",
              "      <td>0</td>\n",
              "      <td>0</td>\n",
              "      <td>0</td>\n",
              "      <td>1</td>\n",
              "      <td>0</td>\n",
              "      <td>0</td>\n",
              "    </tr>\n",
              "  </tbody>\n",
              "</table>\n",
              "</div>"
            ],
            "text/plain": [
              "   price    levy  manufacturer  model  prod_year  category  fuel_type  \\\n",
              "0  13328  1399.0            26    629       2010         4          3   \n",
              "1  16621  1018.0             6    313       2011         4          5   \n",
              "2   3607   862.0            14    316       2011         4          3   \n",
              "3  11726   446.0            17    331       2014         3          5   \n",
              "4  39493   891.0            19    652       2016         4          2   \n",
              "\n",
              "   engine_volume  mileage  cylinders  color  airbags  is_turbo  \\\n",
              "0            3.5   186005          6     12       12         0   \n",
              "1            3.0   192000          6      1        8         0   \n",
              "2            2.5   168966          4     14        0         0   \n",
              "3            1.3    91901          4     12        4         0   \n",
              "4            2.0   160931          4     14        4         0   \n",
              "\n",
              "   leather_interior_yes  gear_box_type_manual  gear_box_type_tiptronic  \\\n",
              "0                     1                     0                        0   \n",
              "1                     0                     0                        1   \n",
              "2                     1                     0                        0   \n",
              "3                     1                     0                        0   \n",
              "4                     1                     0                        0   \n",
              "\n",
              "   gear_box_type_variator  drive_wheels_front  drive_wheels_rear  \\\n",
              "0                       0                   0                  0   \n",
              "1                       0                   0                  0   \n",
              "2                       0                   0                  0   \n",
              "3                       0                   1                  0   \n",
              "4                       0                   1                  0   \n",
              "\n",
              "   wheel_right_hand_drive  \n",
              "0                       0  \n",
              "1                       0  \n",
              "2                       0  \n",
              "3                       0  \n",
              "4                       0  "
            ]
          },
          "execution_count": 405,
          "metadata": {},
          "output_type": "execute_result"
        }
      ],
      "source": [
        "df_final.head()"
      ]
    },
    {
      "cell_type": "code",
      "execution_count": 406,
      "metadata": {
        "id": "uLE8iZVDp-ru"
      },
      "outputs": [],
      "source": [
        "# scaling with StandardScaler\n",
        "\n",
        "scaler = StandardScaler()\n",
        "\n",
        "numerical = ['price', 'levy', 'manufacturer', 'model', 'prod_year', 'engine_volume', 'mileage',]\n",
        "\n",
        "df_numerical = df[numerical]\n",
        "df_encoded = df_final.drop(columns=df_numerical)\n",
        "\n",
        "df_numerical_scaled = scaler.fit_transform(df_numerical)\n",
        "df_numerical_scaled = pd.DataFrame(df_numerical_scaled, columns=df_numerical.columns)\n",
        "\n",
        "df_final_scaled = pd.concat([df_numerical_scaled, df_encoded], axis=1)\n",
        "\n",
        "df=df_final_scaled"
      ]
    },
    {
      "cell_type": "code",
      "execution_count": 407,
      "metadata": {
        "colab": {
          "base_uri": "https://localhost:8080/",
          "height": 224
        },
        "id": "kbPMvIizp-ru",
        "outputId": "5a240a79-1178-48bf-e50d-1c189e7201fa"
      },
      "outputs": [
        {
          "data": {
            "text/html": [
              "<div>\n",
              "<style scoped>\n",
              "    .dataframe tbody tr th:only-of-type {\n",
              "        vertical-align: middle;\n",
              "    }\n",
              "\n",
              "    .dataframe tbody tr th {\n",
              "        vertical-align: top;\n",
              "    }\n",
              "\n",
              "    .dataframe thead th {\n",
              "        text-align: right;\n",
              "    }\n",
              "</style>\n",
              "<table border=\"1\" class=\"dataframe\">\n",
              "  <thead>\n",
              "    <tr style=\"text-align: right;\">\n",
              "      <th></th>\n",
              "      <th>price</th>\n",
              "      <th>levy</th>\n",
              "      <th>manufacturer</th>\n",
              "      <th>model</th>\n",
              "      <th>prod_year</th>\n",
              "      <th>engine_volume</th>\n",
              "      <th>mileage</th>\n",
              "      <th>category</th>\n",
              "      <th>fuel_type</th>\n",
              "      <th>cylinders</th>\n",
              "      <th>color</th>\n",
              "      <th>airbags</th>\n",
              "      <th>is_turbo</th>\n",
              "      <th>leather_interior_yes</th>\n",
              "      <th>gear_box_type_manual</th>\n",
              "      <th>gear_box_type_tiptronic</th>\n",
              "      <th>gear_box_type_variator</th>\n",
              "      <th>drive_wheels_front</th>\n",
              "      <th>drive_wheels_rear</th>\n",
              "      <th>wheel_right_hand_drive</th>\n",
              "    </tr>\n",
              "  </thead>\n",
              "  <tbody>\n",
              "    <tr>\n",
              "      <th>0</th>\n",
              "      <td>-0.307434</td>\n",
              "      <td>1.132477</td>\n",
              "      <td>0.081017</td>\n",
              "      <td>0.942858</td>\n",
              "      <td>-1.011957</td>\n",
              "      <td>1.765694</td>\n",
              "      <td>-0.010740</td>\n",
              "      <td>4</td>\n",
              "      <td>3</td>\n",
              "      <td>6</td>\n",
              "      <td>12</td>\n",
              "      <td>12</td>\n",
              "      <td>0</td>\n",
              "      <td>1</td>\n",
              "      <td>0</td>\n",
              "      <td>0</td>\n",
              "      <td>0</td>\n",
              "      <td>0</td>\n",
              "      <td>0</td>\n",
              "      <td>0</td>\n",
              "    </tr>\n",
              "    <tr>\n",
              "      <th>1</th>\n",
              "      <td>-0.144555</td>\n",
              "      <td>0.301999</td>\n",
              "      <td>-1.373446</td>\n",
              "      <td>-0.527846</td>\n",
              "      <td>-0.695720</td>\n",
              "      <td>1.101695</td>\n",
              "      <td>-0.010487</td>\n",
              "      <td>4</td>\n",
              "      <td>5</td>\n",
              "      <td>6</td>\n",
              "      <td>1</td>\n",
              "      <td>8</td>\n",
              "      <td>0</td>\n",
              "      <td>0</td>\n",
              "      <td>0</td>\n",
              "      <td>1</td>\n",
              "      <td>0</td>\n",
              "      <td>0</td>\n",
              "      <td>0</td>\n",
              "      <td>0</td>\n",
              "    </tr>\n",
              "    <tr>\n",
              "      <th>2</th>\n",
              "      <td>-0.788253</td>\n",
              "      <td>-0.038040</td>\n",
              "      <td>-0.791661</td>\n",
              "      <td>-0.513883</td>\n",
              "      <td>-0.695720</td>\n",
              "      <td>0.437697</td>\n",
              "      <td>-0.011461</td>\n",
              "      <td>4</td>\n",
              "      <td>3</td>\n",
              "      <td>4</td>\n",
              "      <td>14</td>\n",
              "      <td>0</td>\n",
              "      <td>0</td>\n",
              "      <td>1</td>\n",
              "      <td>0</td>\n",
              "      <td>0</td>\n",
              "      <td>0</td>\n",
              "      <td>0</td>\n",
              "      <td>0</td>\n",
              "      <td>0</td>\n",
              "    </tr>\n",
              "    <tr>\n",
              "      <th>3</th>\n",
              "      <td>-0.386672</td>\n",
              "      <td>-0.944809</td>\n",
              "      <td>-0.573491</td>\n",
              "      <td>-0.444071</td>\n",
              "      <td>0.252989</td>\n",
              "      <td>-1.155900</td>\n",
              "      <td>-0.014721</td>\n",
              "      <td>3</td>\n",
              "      <td>5</td>\n",
              "      <td>4</td>\n",
              "      <td>12</td>\n",
              "      <td>4</td>\n",
              "      <td>0</td>\n",
              "      <td>1</td>\n",
              "      <td>0</td>\n",
              "      <td>0</td>\n",
              "      <td>0</td>\n",
              "      <td>1</td>\n",
              "      <td>0</td>\n",
              "      <td>0</td>\n",
              "    </tr>\n",
              "    <tr>\n",
              "      <th>4</th>\n",
              "      <td>0.986739</td>\n",
              "      <td>0.025172</td>\n",
              "      <td>-0.428045</td>\n",
              "      <td>1.049903</td>\n",
              "      <td>0.885462</td>\n",
              "      <td>-0.226302</td>\n",
              "      <td>-0.011801</td>\n",
              "      <td>4</td>\n",
              "      <td>2</td>\n",
              "      <td>4</td>\n",
              "      <td>14</td>\n",
              "      <td>4</td>\n",
              "      <td>0</td>\n",
              "      <td>1</td>\n",
              "      <td>0</td>\n",
              "      <td>0</td>\n",
              "      <td>0</td>\n",
              "      <td>1</td>\n",
              "      <td>0</td>\n",
              "      <td>0</td>\n",
              "    </tr>\n",
              "  </tbody>\n",
              "</table>\n",
              "</div>"
            ],
            "text/plain": [
              "      price      levy  manufacturer     model  prod_year  engine_volume  \\\n",
              "0 -0.307434  1.132477      0.081017  0.942858  -1.011957       1.765694   \n",
              "1 -0.144555  0.301999     -1.373446 -0.527846  -0.695720       1.101695   \n",
              "2 -0.788253 -0.038040     -0.791661 -0.513883  -0.695720       0.437697   \n",
              "3 -0.386672 -0.944809     -0.573491 -0.444071   0.252989      -1.155900   \n",
              "4  0.986739  0.025172     -0.428045  1.049903   0.885462      -0.226302   \n",
              "\n",
              "    mileage  category  fuel_type  cylinders  color  airbags  is_turbo  \\\n",
              "0 -0.010740         4          3          6     12       12         0   \n",
              "1 -0.010487         4          5          6      1        8         0   \n",
              "2 -0.011461         4          3          4     14        0         0   \n",
              "3 -0.014721         3          5          4     12        4         0   \n",
              "4 -0.011801         4          2          4     14        4         0   \n",
              "\n",
              "   leather_interior_yes  gear_box_type_manual  gear_box_type_tiptronic  \\\n",
              "0                     1                     0                        0   \n",
              "1                     0                     0                        1   \n",
              "2                     1                     0                        0   \n",
              "3                     1                     0                        0   \n",
              "4                     1                     0                        0   \n",
              "\n",
              "   gear_box_type_variator  drive_wheels_front  drive_wheels_rear  \\\n",
              "0                       0                   0                  0   \n",
              "1                       0                   0                  0   \n",
              "2                       0                   0                  0   \n",
              "3                       0                   1                  0   \n",
              "4                       0                   1                  0   \n",
              "\n",
              "   wheel_right_hand_drive  \n",
              "0                       0  \n",
              "1                       0  \n",
              "2                       0  \n",
              "3                       0  \n",
              "4                       0  "
            ]
          },
          "execution_count": 407,
          "metadata": {},
          "output_type": "execute_result"
        }
      ],
      "source": [
        "df.head()"
      ]
    },
    {
      "cell_type": "code",
      "execution_count": 408,
      "metadata": {
        "id": "1SpRE1wDa4k3"
      },
      "outputs": [],
      "source": [
        "X = df.drop(columns='price')\n",
        "y = df['price']"
      ]
    },
    {
      "cell_type": "code",
      "execution_count": 409,
      "metadata": {
        "colab": {
          "base_uri": "https://localhost:8080/"
        },
        "id": "AY98upC6afr2",
        "outputId": "d3326044-2ac0-4b49-8e93-26eb7aa1bec1"
      },
      "outputs": [
        {
          "name": "stdout",
          "output_type": "stream",
          "text": [
            "                         MI Score\n",
            "model                    0.495882\n",
            "levy                     0.448853\n",
            "airbags                  0.441035\n",
            "manufacturer             0.291301\n",
            "engine_volume            0.274704\n",
            "prod_year                0.231932\n",
            "fuel_type                0.205814\n",
            "mileage                  0.175380\n",
            "category                 0.172788\n",
            "gear_box_type_tiptronic  0.114035\n",
            "leather_interior_yes     0.112384\n",
            "drive_wheels_front       0.085010\n",
            "color                    0.067554\n",
            "cylinders                0.061632\n",
            "wheel_right_hand_drive   0.050361\n",
            "is_turbo                 0.047803\n",
            "gear_box_type_variator   0.015379\n",
            "gear_box_type_manual     0.010918\n",
            "drive_wheels_rear        0.007851\n"
          ]
        }
      ],
      "source": [
        "\n",
        "#Mutual Score\n",
        "mi_scores = mutual_info_regression(X, y)\n",
        "\n",
        "mi_scores_df = pd.DataFrame(mi_scores, index=X.columns, columns=['MI Score'])\n",
        "mi_scores_df = mi_scores_df.sort_values(by='MI Score', ascending=False)\n",
        "\n",
        "print(mi_scores_df)"
      ]
    },
    {
      "cell_type": "code",
      "execution_count": 410,
      "metadata": {
        "colab": {
          "base_uri": "https://localhost:8080/",
          "height": 487
        },
        "id": "SBXA3gQDp-rv",
        "outputId": "061ee013-8615-4198-9b42-491092f4758a"
      },
      "outputs": [
        {
          "data": {
            "image/png": "[encoded data removed]",
            "text/plain": [
              "<Figure size 800x500 with 1 Axes>"
            ]
          },
          "metadata": {},
          "output_type": "display_data"
        }
      ],
      "source": [
        "def plot_mi_scores(scores):\n",
        "  scores = scores.sort_values(ascending=True)\n",
        "  width = np.arange(len(scores))\n",
        "  ticks = list(scores.index)\n",
        "\n",
        "  plt.barh(width, scores)\n",
        "  plt.yticks(width, ticks)\n",
        "  plt.title(\"Mutual Information Scores\")\n",
        "  plt.xlabel(\"Mutual Information Scores\")\n",
        "  plt.ylabel(\"Features\")\n",
        "  plt.show()\n",
        "\n",
        "\n",
        "plt.figure(dpi=100, figsize=(8, 5))\n",
        "plot_mi_scores(mi_scores_df[\"MI Score\"])"
      ]
    },
    {
      "cell_type": "code",
      "execution_count": 411,
      "metadata": {
        "colab": {
          "base_uri": "https://localhost:8080/",
          "height": 699
        },
        "id": "al5tFLUpefOo",
        "outputId": "3b3eeb5b-5e8b-47d1-b5a8-7add3cf3d5ce"
      },
      "outputs": [
        {
          "data": {
            "image/png": "[encoded data removed]",
            "text/plain": [
              "<Figure size 1200x800 with 2 Axes>"
            ]
          },
          "metadata": {},
          "output_type": "display_data"
        }
      ],
      "source": [
        "\n",
        "# Check the correlation between all features to spot any potential multicollinearity\n",
        "plt.figure(figsize=(12, 8))\n",
        "sns.heatmap(correlation_matrix, annot=True, cmap='coolwarm', vmin=-1, vmax=1)\n",
        "plt.title(\"Correlation Matrix of Features\")\n",
        "plt.show()"
      ]
    },
    {
      "cell_type": "code",
      "execution_count": 412,
      "metadata": {
        "id": "Do-vt7Jtb3VC"
      },
      "outputs": [],
      "source": [
        "# X is input (features)\n",
        "# y is output(target feature)"
      ]
    },
    {
      "cell_type": "code",
      "execution_count": 413,
      "metadata": {
        "id": "F-PNaPcXe-5B"
      },
      "outputs": [
        {
          "name": "stdout",
          "output_type": "stream",
          "text": [
            "<class 'pandas.core.frame.DataFrame'>\n",
            "RangeIndex: 10040 entries, 0 to 10039\n",
            "Data columns (total 20 columns):\n",
            " #   Column                   Non-Null Count  Dtype  \n",
            "---  ------                   --------------  -----  \n",
            " 0   price                    10040 non-null  float64\n",
            " 1   levy                     10040 non-null  float64\n",
            " 2   manufacturer             10040 non-null  float64\n",
            " 3   model                    10040 non-null  float64\n",
            " 4   prod_year                10040 non-null  float64\n",
            " 5   engine_volume            10040 non-null  float64\n",
            " 6   mileage                  10040 non-null  float64\n",
            " 7   category                 10040 non-null  int8   \n",
            " 8   fuel_type                10040 non-null  int8   \n",
            " 9   cylinders                10040 non-null  int8   \n",
            " 10  color                    10040 non-null  int8   \n",
            " 11  airbags                  10040 non-null  int8   \n",
            " 12  is_turbo                 10040 non-null  int8   \n",
            " 13  leather_interior_yes     10040 non-null  int8   \n",
            " 14  gear_box_type_manual     10040 non-null  int8   \n",
            " 15  gear_box_type_tiptronic  10040 non-null  int8   \n",
            " 16  gear_box_type_variator   10040 non-null  int8   \n",
            " 17  drive_wheels_front       10040 non-null  int8   \n",
            " 18  drive_wheels_rear        10040 non-null  int8   \n",
            " 19  wheel_right_hand_drive   10040 non-null  int8   \n",
            "dtypes: float64(7), int8(13)\n",
            "memory usage: 676.7 KB\n"
          ]
        }
      ],
      "source": [
        "df.info()"
      ]
    },
    {
      "cell_type": "code",
      "execution_count": 414,
      "metadata": {},
      "outputs": [],
      "source": [
        "x = df.drop(\"price\", axis=1)\n",
        "y = df[\"price\"] "
      ]
    },
    {
      "cell_type": "code",
      "execution_count": 415,
      "metadata": {},
      "outputs": [],
      "source": [
        "x_train, x_temp, y_train, y_temp = train_test_split(x, y, test_size=0.3, random_state=42)\n",
        "\n",
        "x_val, x_test, y_val, y_test = train_test_split(x_temp, y_temp, test_size=0.5, random_state=42)"
      ]
    },
    {
      "cell_type": "markdown",
      "metadata": {},
      "source": [
        "# Linear Regression"
      ]
    },
    {
      "cell_type": "code",
      "execution_count": 416,
      "metadata": {},
      "outputs": [],
      "source": [
        "model=LinearRegression()\n"
      ]
    },
    {
      "cell_type": "code",
      "execution_count": 417,
      "metadata": {},
      "outputs": [
        {
          "data": {
            "text/html": [
              "<style>#sk-container-id-9 {\n",
              "  /* Definition of color scheme common for light and dark mode */\n",
              "  --sklearn-color-text: black;\n",
              "  --sklearn-color-line: gray;\n",
              "  /* Definition of color scheme for unfitted estimators */\n",
              "  --sklearn-color-unfitted-level-0: #fff5e6;\n",
              "  --sklearn-color-unfitted-level-1: #f6e4d2;\n",
              "  --sklearn-color-unfitted-level-2: #ffe0b3;\n",
              "  --sklearn-color-unfitted-level-3: chocolate;\n",
              "  /* Definition of color scheme for fitted estimators */\n",
              "  --sklearn-color-fitted-level-0: #f0f8ff;\n",
              "  --sklearn-color-fitted-level-1: #d4ebff;\n",
              "  --sklearn-color-fitted-level-2: #b3dbfd;\n",
              "  --sklearn-color-fitted-level-3: cornflowerblue;\n",
              "\n",
              "  /* Specific color for light theme */\n",
              "  --sklearn-color-text-on-default-background: var(--sg-text-color, var(--theme-code-foreground, var(--jp-content-font-color1, black)));\n",
              "  --sklearn-color-background: var(--sg-background-color, var(--theme-background, var(--jp-layout-color0, white)));\n",
              "  --sklearn-color-border-box: var(--sg-text-color, var(--theme-code-foreground, var(--jp-content-font-color1, black)));\n",
              "  --sklearn-color-icon: #696969;\n",
              "\n",
              "  @media (prefers-color-scheme: dark) {\n",
              "    /* Redefinition of color scheme for dark theme */\n",
              "    --sklearn-color-text-on-default-background: var(--sg-text-color, var(--theme-code-foreground, var(--jp-content-font-color1, white)));\n",
              "    --sklearn-color-background: var(--sg-background-color, var(--theme-background, var(--jp-layout-color0, #111)));\n",
              "    --sklearn-color-border-box: var(--sg-text-color, var(--theme-code-foreground, var(--jp-content-font-color1, white)));\n",
              "    --sklearn-color-icon: #878787;\n",
              "  }\n",
              "}\n",
              "\n",
              "#sk-container-id-9 {\n",
              "  color: var(--sklearn-color-text);\n",
              "}\n",
              "\n",
              "#sk-container-id-9 pre {\n",
              "  padding: 0;\n",
              "}\n",
              "\n",
              "#sk-container-id-9 input.sk-hidden--visually {\n",
              "  border: 0;\n",
              "  clip: rect(1px 1px 1px 1px);\n",
              "  clip: rect(1px, 1px, 1px, 1px);\n",
              "  height: 1px;\n",
              "  margin: -1px;\n",
              "  overflow: hidden;\n",
              "  padding: 0;\n",
              "  position: absolute;\n",
              "  width: 1px;\n",
              "}\n",
              "\n",
              "#sk-container-id-9 div.sk-dashed-wrapped {\n",
              "  border: 1px dashed var(--sklearn-color-line);\n",
              "  margin: 0 0.4em 0.5em 0.4em;\n",
              "  box-sizing: border-box;\n",
              "  padding-bottom: 0.4em;\n",
              "  background-color: var(--sklearn-color-background);\n",
              "}\n",
              "\n",
              "#sk-container-id-9 div.sk-container {\n",
              "  /* jupyter's `normalize.less` sets `[hidden] { display: none; }`\n",
              "     but bootstrap.min.css set `[hidden] { display: none !important; }`\n",
              "     so we also need the `!important` here to be able to override the\n",
              "     default hidden behavior on the sphinx rendered scikit-learn.org.\n",
              "     See: https://github.com/scikit-learn/scikit-learn/issues/21755 */\n",
              "  display: inline-block !important;\n",
              "  position: relative;\n",
              "}\n",
              "\n",
              "#sk-container-id-9 div.sk-text-repr-fallback {\n",
              "  display: none;\n",
              "}\n",
              "\n",
              "div.sk-parallel-item,\n",
              "div.sk-serial,\n",
              "div.sk-item {\n",
              "  /* draw centered vertical line to link estimators */\n",
              "  background-image: linear-gradient(var(--sklearn-color-text-on-default-background), var(--sklearn-color-text-on-default-background));\n",
              "  background-size: 2px 100%;\n",
              "  background-repeat: no-repeat;\n",
              "  background-position: center center;\n",
              "}\n",
              "\n",
              "/* Parallel-specific style estimator block */\n",
              "\n",
              "#sk-container-id-9 div.sk-parallel-item::after {\n",
              "  content: \"\";\n",
              "  width: 100%;\n",
              "  border-bottom: 2px solid var(--sklearn-color-text-on-default-background);\n",
              "  flex-grow: 1;\n",
              "}\n",
              "\n",
              "#sk-container-id-9 div.sk-parallel {\n",
              "  display: flex;\n",
              "  align-items: stretch;\n",
              "  justify-content: center;\n",
              "  background-color: var(--sklearn-color-background);\n",
              "  position: relative;\n",
              "}\n",
              "\n",
              "#sk-container-id-9 div.sk-parallel-item {\n",
              "  display: flex;\n",
              "  flex-direction: column;\n",
              "}\n",
              "\n",
              "#sk-container-id-9 div.sk-parallel-item:first-child::after {\n",
              "  align-self: flex-end;\n",
              "  width: 50%;\n",
              "}\n",
              "\n",
              "#sk-container-id-9 div.sk-parallel-item:last-child::after {\n",
              "  align-self: flex-start;\n",
              "  width: 50%;\n",
              "}\n",
              "\n",
              "#sk-container-id-9 div.sk-parallel-item:only-child::after {\n",
              "  width: 0;\n",
              "}\n",
              "\n",
              "/* Serial-specific style estimator block */\n",
              "\n",
              "#sk-container-id-9 div.sk-serial {\n",
              "  display: flex;\n",
              "  flex-direction: column;\n",
              "  align-items: center;\n",
              "  background-color: var(--sklearn-color-background);\n",
              "  padding-right: 1em;\n",
              "  padding-left: 1em;\n",
              "}\n",
              "\n",
              "\n",
              "/* Toggleable style: style used for estimator/Pipeline/ColumnTransformer box that is\n",
              "clickable and can be expanded/collapsed.\n",
              "- Pipeline and ColumnTransformer use this feature and define the default style\n",
              "- Estimators will overwrite some part of the style using the `sk-estimator` class\n",
              "*/\n",
              "\n",
              "/* Pipeline and ColumnTransformer style (default) */\n",
              "\n",
              "#sk-container-id-9 div.sk-toggleable {\n",
              "  /* Default theme specific background. It is overwritten whether we have a\n",
              "  specific estimator or a Pipeline/ColumnTransformer */\n",
              "  background-color: var(--sklearn-color-background);\n",
              "}\n",
              "\n",
              "/* Toggleable label */\n",
              "#sk-container-id-9 label.sk-toggleable__label {\n",
              "  cursor: pointer;\n",
              "  display: block;\n",
              "  width: 100%;\n",
              "  margin-bottom: 0;\n",
              "  padding: 0.5em;\n",
              "  box-sizing: border-box;\n",
              "  text-align: center;\n",
              "}\n",
              "\n",
              "#sk-container-id-9 label.sk-toggleable__label-arrow:before {\n",
              "  /* Arrow on the left of the label */\n",
              "  content: \"▸\";\n",
              "  float: left;\n",
              "  margin-right: 0.25em;\n",
              "  color: var(--sklearn-color-icon);\n",
              "}\n",
              "\n",
              "#sk-container-id-9 label.sk-toggleable__label-arrow:hover:before {\n",
              "  color: var(--sklearn-color-text);\n",
              "}\n",
              "\n",
              "/* Toggleable content - dropdown */\n",
              "\n",
              "#sk-container-id-9 div.sk-toggleable__content {\n",
              "  max-height: 0;\n",
              "  max-width: 0;\n",
              "  overflow: hidden;\n",
              "  text-align: left;\n",
              "  /* unfitted */\n",
              "  background-color: var(--sklearn-color-unfitted-level-0);\n",
              "}\n",
              "\n",
              "#sk-container-id-9 div.sk-toggleable__content.fitted {\n",
              "  /* fitted */\n",
              "  background-color: var(--sklearn-color-fitted-level-0);\n",
              "}\n",
              "\n",
              "#sk-container-id-9 div.sk-toggleable__content pre {\n",
              "  margin: 0.2em;\n",
              "  border-radius: 0.25em;\n",
              "  color: var(--sklearn-color-text);\n",
              "  /* unfitted */\n",
              "  background-color: var(--sklearn-color-unfitted-level-0);\n",
              "}\n",
              "\n",
              "#sk-container-id-9 div.sk-toggleable__content.fitted pre {\n",
              "  /* unfitted */\n",
              "  background-color: var(--sklearn-color-fitted-level-0);\n",
              "}\n",
              "\n",
              "#sk-container-id-9 input.sk-toggleable__control:checked~div.sk-toggleable__content {\n",
              "  /* Expand drop-down */\n",
              "  max-height: 200px;\n",
              "  max-width: 100%;\n",
              "  overflow: auto;\n",
              "}\n",
              "\n",
              "#sk-container-id-9 input.sk-toggleable__control:checked~label.sk-toggleable__label-arrow:before {\n",
              "  content: \"▾\";\n",
              "}\n",
              "\n",
              "/* Pipeline/ColumnTransformer-specific style */\n",
              "\n",
              "#sk-container-id-9 div.sk-label input.sk-toggleable__control:checked~label.sk-toggleable__label {\n",
              "  color: var(--sklearn-color-text);\n",
              "  background-color: var(--sklearn-color-unfitted-level-2);\n",
              "}\n",
              "\n",
              "#sk-container-id-9 div.sk-label.fitted input.sk-toggleable__control:checked~label.sk-toggleable__label {\n",
              "  background-color: var(--sklearn-color-fitted-level-2);\n",
              "}\n",
              "\n",
              "/* Estimator-specific style */\n",
              "\n",
              "/* Colorize estimator box */\n",
              "#sk-container-id-9 div.sk-estimator input.sk-toggleable__control:checked~label.sk-toggleable__label {\n",
              "  /* unfitted */\n",
              "  background-color: var(--sklearn-color-unfitted-level-2);\n",
              "}\n",
              "\n",
              "#sk-container-id-9 div.sk-estimator.fitted input.sk-toggleable__control:checked~label.sk-toggleable__label {\n",
              "  /* fitted */\n",
              "  background-color: var(--sklearn-color-fitted-level-2);\n",
              "}\n",
              "\n",
              "#sk-container-id-9 div.sk-label label.sk-toggleable__label,\n",
              "#sk-container-id-9 div.sk-label label {\n",
              "  /* The background is the default theme color */\n",
              "  color: var(--sklearn-color-text-on-default-background);\n",
              "}\n",
              "\n",
              "/* On hover, darken the color of the background */\n",
              "#sk-container-id-9 div.sk-label:hover label.sk-toggleable__label {\n",
              "  color: var(--sklearn-color-text);\n",
              "  background-color: var(--sklearn-color-unfitted-level-2);\n",
              "}\n",
              "\n",
              "/* Label box, darken color on hover, fitted */\n",
              "#sk-container-id-9 div.sk-label.fitted:hover label.sk-toggleable__label.fitted {\n",
              "  color: var(--sklearn-color-text);\n",
              "  background-color: var(--sklearn-color-fitted-level-2);\n",
              "}\n",
              "\n",
              "/* Estimator label */\n",
              "\n",
              "#sk-container-id-9 div.sk-label label {\n",
              "  font-family: monospace;\n",
              "  font-weight: bold;\n",
              "  display: inline-block;\n",
              "  line-height: 1.2em;\n",
              "}\n",
              "\n",
              "#sk-container-id-9 div.sk-label-container {\n",
              "  text-align: center;\n",
              "}\n",
              "\n",
              "/* Estimator-specific */\n",
              "#sk-container-id-9 div.sk-estimator {\n",
              "  font-family: monospace;\n",
              "  border: 1px dotted var(--sklearn-color-border-box);\n",
              "  border-radius: 0.25em;\n",
              "  box-sizing: border-box;\n",
              "  margin-bottom: 0.5em;\n",
              "  /* unfitted */\n",
              "  background-color: var(--sklearn-color-unfitted-level-0);\n",
              "}\n",
              "\n",
              "#sk-container-id-9 div.sk-estimator.fitted {\n",
              "  /* fitted */\n",
              "  background-color: var(--sklearn-color-fitted-level-0);\n",
              "}\n",
              "\n",
              "/* on hover */\n",
              "#sk-container-id-9 div.sk-estimator:hover {\n",
              "  /* unfitted */\n",
              "  background-color: var(--sklearn-color-unfitted-level-2);\n",
              "}\n",
              "\n",
              "#sk-container-id-9 div.sk-estimator.fitted:hover {\n",
              "  /* fitted */\n",
              "  background-color: var(--sklearn-color-fitted-level-2);\n",
              "}\n",
              "\n",
              "/* Specification for estimator info (e.g. \"i\" and \"?\") */\n",
              "\n",
              "/* Common style for \"i\" and \"?\" */\n",
              "\n",
              ".sk-estimator-doc-link,\n",
              "a:link.sk-estimator-doc-link,\n",
              "a:visited.sk-estimator-doc-link {\n",
              "  float: right;\n",
              "  font-size: smaller;\n",
              "  line-height: 1em;\n",
              "  font-family: monospace;\n",
              "  background-color: var(--sklearn-color-background);\n",
              "  border-radius: 1em;\n",
              "  height: 1em;\n",
              "  width: 1em;\n",
              "  text-decoration: none !important;\n",
              "  margin-left: 1ex;\n",
              "  /* unfitted */\n",
              "  border: var(--sklearn-color-unfitted-level-1) 1pt solid;\n",
              "  color: var(--sklearn-color-unfitted-level-1);\n",
              "}\n",
              "\n",
              ".sk-estimator-doc-link.fitted,\n",
              "a:link.sk-estimator-doc-link.fitted,\n",
              "a:visited.sk-estimator-doc-link.fitted {\n",
              "  /* fitted */\n",
              "  border: var(--sklearn-color-fitted-level-1) 1pt solid;\n",
              "  color: var(--sklearn-color-fitted-level-1);\n",
              "}\n",
              "\n",
              "/* On hover */\n",
              "div.sk-estimator:hover .sk-estimator-doc-link:hover,\n",
              ".sk-estimator-doc-link:hover,\n",
              "div.sk-label-container:hover .sk-estimator-doc-link:hover,\n",
              ".sk-estimator-doc-link:hover {\n",
              "  /* unfitted */\n",
              "  background-color: var(--sklearn-color-unfitted-level-3);\n",
              "  color: var(--sklearn-color-background);\n",
              "  text-decoration: none;\n",
              "}\n",
              "\n",
              "div.sk-estimator.fitted:hover .sk-estimator-doc-link.fitted:hover,\n",
              ".sk-estimator-doc-link.fitted:hover,\n",
              "div.sk-label-container:hover .sk-estimator-doc-link.fitted:hover,\n",
              ".sk-estimator-doc-link.fitted:hover {\n",
              "  /* fitted */\n",
              "  background-color: var(--sklearn-color-fitted-level-3);\n",
              "  color: var(--sklearn-color-background);\n",
              "  text-decoration: none;\n",
              "}\n",
              "\n",
              "/* Span, style for the box shown on hovering the info icon */\n",
              ".sk-estimator-doc-link span {\n",
              "  display: none;\n",
              "  z-index: 9999;\n",
              "  position: relative;\n",
              "  font-weight: normal;\n",
              "  right: .2ex;\n",
              "  padding: .5ex;\n",
              "  margin: .5ex;\n",
              "  width: min-content;\n",
              "  min-width: 20ex;\n",
              "  max-width: 50ex;\n",
              "  color: var(--sklearn-color-text);\n",
              "  box-shadow: 2pt 2pt 4pt #999;\n",
              "  /* unfitted */\n",
              "  background: var(--sklearn-color-unfitted-level-0);\n",
              "  border: .5pt solid var(--sklearn-color-unfitted-level-3);\n",
              "}\n",
              "\n",
              ".sk-estimator-doc-link.fitted span {\n",
              "  /* fitted */\n",
              "  background: var(--sklearn-color-fitted-level-0);\n",
              "  border: var(--sklearn-color-fitted-level-3);\n",
              "}\n",
              "\n",
              ".sk-estimator-doc-link:hover span {\n",
              "  display: block;\n",
              "}\n",
              "\n",
              "/* \"?\"-specific style due to the `<a>` HTML tag */\n",
              "\n",
              "#sk-container-id-9 a.estimator_doc_link {\n",
              "  float: right;\n",
              "  font-size: 1rem;\n",
              "  line-height: 1em;\n",
              "  font-family: monospace;\n",
              "  background-color: var(--sklearn-color-background);\n",
              "  border-radius: 1rem;\n",
              "  height: 1rem;\n",
              "  width: 1rem;\n",
              "  text-decoration: none;\n",
              "  /* unfitted */\n",
              "  color: var(--sklearn-color-unfitted-level-1);\n",
              "  border: var(--sklearn-color-unfitted-level-1) 1pt solid;\n",
              "}\n",
              "\n",
              "#sk-container-id-9 a.estimator_doc_link.fitted {\n",
              "  /* fitted */\n",
              "  border: var(--sklearn-color-fitted-level-1) 1pt solid;\n",
              "  color: var(--sklearn-color-fitted-level-1);\n",
              "}\n",
              "\n",
              "/* On hover */\n",
              "#sk-container-id-9 a.estimator_doc_link:hover {\n",
              "  /* unfitted */\n",
              "  background-color: var(--sklearn-color-unfitted-level-3);\n",
              "  color: var(--sklearn-color-background);\n",
              "  text-decoration: none;\n",
              "}\n",
              "\n",
              "#sk-container-id-9 a.estimator_doc_link.fitted:hover {\n",
              "  /* fitted */\n",
              "  background-color: var(--sklearn-color-fitted-level-3);\n",
              "}\n",
              "</style><div id=\"sk-container-id-9\" class=\"sk-top-container\"><div class=\"sk-text-repr-fallback\"><pre>LinearRegression()</pre><b>In a Jupyter environment, please rerun this cell to show the HTML representation or trust the notebook. <br />On GitHub, the HTML representation is unable to render, please try loading this page with nbviewer.org.</b></div><div class=\"sk-container\" hidden><div class=\"sk-item\"><div class=\"sk-estimator fitted sk-toggleable\"><input class=\"sk-toggleable__control sk-hidden--visually\" id=\"sk-estimator-id-9\" type=\"checkbox\" checked><label for=\"sk-estimator-id-9\" class=\"sk-toggleable__label fitted sk-toggleable__label-arrow fitted\">&nbsp;&nbsp;LinearRegression<a class=\"sk-estimator-doc-link fitted\" rel=\"noreferrer\" target=\"_blank\" href=\"https://scikit-learn.org/1.5/modules/generated/sklearn.linear_model.LinearRegression.html\">?<span>Documentation for LinearRegression</span></a><span class=\"sk-estimator-doc-link fitted\">i<span>Fitted</span></span></label><div class=\"sk-toggleable__content fitted\"><pre>LinearRegression()</pre></div> </div></div></div></div>"
            ],
            "text/plain": [
              "LinearRegression()"
            ]
          },
          "execution_count": 417,
          "metadata": {},
          "output_type": "execute_result"
        }
      ],
      "source": [
        "model.fit(x_train,y_train)"
      ]
    },
    {
      "cell_type": "code",
      "execution_count": 418,
      "metadata": {},
      "outputs": [
        {
          "data": {
            "text/plain": [
              "array([ 0.09258665,  0.80421143,  0.42688094, ..., -0.27035943,\n",
              "       -0.20029255, -0.17404395])"
            ]
          },
          "execution_count": 418,
          "metadata": {},
          "output_type": "execute_result"
        }
      ],
      "source": [
        "y_pred=model.predict(x_test)\n",
        "y_pred"
      ]
    },
    {
      "cell_type": "code",
      "execution_count": 419,
      "metadata": {},
      "outputs": [
        {
          "name": "stdout",
          "output_type": "stream",
          "text": [
            "0.6233103192627992\n",
            "0.3233613590791775\n"
          ]
        }
      ],
      "source": [
        "mse=mean_squared_error(y_test,y_pred)\n",
        "r2=r2_score(y_test,y_pred)\n",
        "\n",
        "print(mse)\n",
        "print(r2)"
      ]
    },
    {
      "cell_type": "markdown",
      "metadata": {},
      "source": [
        "# Hyperparameter tuning(Grid Search for Ridge & Lasso Regression)"
      ]
    },
    {
      "cell_type": "code",
      "execution_count": 420,
      "metadata": {},
      "outputs": [
        {
          "name": "stdout",
          "output_type": "stream",
          "text": [
            "\n",
            "Best Lasso Alpha: {'alpha': 0.001}\n",
            "Lasso MSE: 0.01138466697881523\n",
            "Lasso R²: 0.9999997058886412\n"
          ]
        }
      ],
      "source": [
        "# Generate synthetic data\n",
        "X, y = make_regression(n_samples=1000, n_features=20, noise=0.1, random_state=42)\n",
        "X_train, X_test, y_train, y_test = train_test_split(X, y, test_size=0.2, random_state=42)\n",
        "\n",
        "# Define hyperparameter grid\n",
        "param_grid = {'alpha': [0.001, 0.01, 0.1, 1, 10, 100]}\n",
        "\n",
        "# Lasso Regression (L1 Regularization)\n",
        "lasso = GridSearchCV(Lasso(), param_grid, cv=5, scoring='neg_mean_squared_error', n_jobs=-1)\n",
        "lasso.fit(X_train, y_train)\n",
        "\n",
        "# Best models\n",
        "best_lasso = lasso.best_estimator_\n",
        "\n",
        "# Predictions\n",
        "y_pred_lasso = best_lasso.predict(X_test)\n",
        "\n",
        "\n",
        "print(\"\\nBest Lasso Alpha:\", lasso.best_params_)\n",
        "print(\"Lasso MSE:\", mean_squared_error(y_test, y_pred_lasso))\n",
        "print(\"Lasso R²:\", r2_score(y_test, y_pred_lasso))\n",
        "\n",
        "\n"
      ]
    },
    {
      "cell_type": "code",
      "execution_count": 421,
      "metadata": {},
      "outputs": [
        {
          "name": "stdout",
          "output_type": "stream",
          "text": [
            "0.01138466697881523\n",
            "0.9999997058886412\n"
          ]
        }
      ],
      "source": [
        "mse=mean_squared_error(y_test, y_pred_lasso)\n",
        "r2=r2_score(y_test, y_pred_lasso)\n",
        "\n",
        "print(mse)\n",
        "print(r2)"
      ]
    },
    {
      "cell_type": "markdown",
      "metadata": {},
      "source": [
        "# Advanced Model(XGBoost)"
      ]
    },
    {
      "cell_type": "code",
      "execution_count": 422,
      "metadata": {},
      "outputs": [],
      "source": [
        "from sklearn.model_selection import train_test_split, GridSearchCV\n",
        "from xgboost import XGBRegressor\n",
        "from sklearn.datasets import make_regression\n",
        "from sklearn.metrics import mean_squared_error, r2_score\n",
        "import xgboost as xgb"
      ]
    },
    {
      "cell_type": "code",
      "execution_count": 423,
      "metadata": {},
      "outputs": [],
      "source": [
        "#df=pd.read_csv(\"/content/Supervised-ML-Projects/Car_Price_Regression_Supervised_ML/Car price.csv\")\n",
        "df = pd.read_csv(\"https://raw.githubusercontent.com/AI-ML1/Supervised-ML-Projects/main/Car_Price_Regression_Supervised_ML/Car%20price.csv\") \n"
      ]
    },
    {
      "cell_type": "code",
      "execution_count": 424,
      "metadata": {},
      "outputs": [
        {
          "name": "stdout",
          "output_type": "stream",
          "text": [
            "Shape of cleaned data: (18924, 18) - Remaining NAs: 0\n",
            "\n",
            "\n",
            "Dropped rows: 313\n",
            "     of which 313 duplicates. (Rows (first 150 shown): [425, 1581, 1697, 1972, 2131, 2268, 2373, 2437, 2450, 2923, 2968, 3026, 3383, 3433, 3525, 3598, 3604, 3859, 3919, 4035, 4182, 4278, 4298, 4398, 4403, 4509, 4732, 4752, 4756, 4862, 4984, 5121, 5174, 5194, 5246, 5328, 5331, 5350, 5354, 5455, 5477, 5572, 5653, 5716, 5778, 5919, 5942, 5989, 6030, 6037, 6071, 6101, 6120, 6138, 6189, 6249, 6291, 6732, 6776, 6847, 6849, 6871, 7035, 7112, 7138, 7269, 7274, 7347, 7406, 7411, 7444, 7796, 7814, 7838, 7848, 7850, 7932, 7944, 7949, 7986, 8177, 8240, 8281, 8437, 8495, 8590, 8657, 8717, 8730, 8765, 9059, 9081, 9120, 9196, 9274, 9275, 9301, 9399, 9779, 9799, 9816, 9824, 9847, 9921, 9965, 9987, 10078, 10081, 10143, 10152, 10264, 10309, 10338, 10339, 10442, 10457, 10513, 10536, 10542, 10604, 10825, 10915, 10925, 10973, 10976, 11020, 11029, 11162, 11209, 11499, 11525, 11528, 11578, 11698, 11729, 11988, 12021, 12025, 12053, 12072, 12090, 12099, 12114, 12240, 12389, 12407, 12434, 12447, 12501, 12520])\n",
            "\n",
            "Dropped columns: 0\n",
            "     of which 0 single valued.     Columns: []\n",
            "Dropped missing values: 0\n",
            "Reduced memory by at least: 1.89 MB (-71.59%)\n",
            "\n"
          ]
        }
      ],
      "source": [
        "df_reduced = klib.data_cleaning(df)"
      ]
    },
    {
      "cell_type": "code",
      "execution_count": 425,
      "metadata": {},
      "outputs": [
        {
          "data": {
            "text/plain": [
              "ID                  0\n",
              "Price               0\n",
              "Levy                0\n",
              "Manufacturer        0\n",
              "Model               0\n",
              "Prod. year          0\n",
              "Category            0\n",
              "Leather interior    0\n",
              "Fuel type           0\n",
              "Engine volume       0\n",
              "Mileage             0\n",
              "Cylinders           0\n",
              "Gear box type       0\n",
              "Drive wheels        0\n",
              "Doors               0\n",
              "Wheel               0\n",
              "Color               0\n",
              "Airbags             0\n",
              "dtype: int64"
            ]
          },
          "execution_count": 425,
          "metadata": {},
          "output_type": "execute_result"
        }
      ],
      "source": [
        "df.isnull().sum()"
      ]
    },
    {
      "cell_type": "code",
      "execution_count": 426,
      "metadata": {},
      "outputs": [],
      "source": [
        "categorical_cols = df.select_dtypes(include=[\"object\"]).columns\n",
        "\n",
        "for col in categorical_cols:\n",
        "    le=LabelEncoder()\n",
        "    df[col] = le.fit_transform(df[col])"
      ]
    },
    {
      "cell_type": "code",
      "execution_count": 427,
      "metadata": {},
      "outputs": [],
      "source": [
        "x=df.drop(\"Price\", axis=1)\n",
        "y=df[\"Price\"]"
      ]
    },
    {
      "cell_type": "code",
      "execution_count": 428,
      "metadata": {},
      "outputs": [],
      "source": [
        "x_train,x_test,y_train,y_test = train_test_split(x,y, test_size=0.3,random_state=42)"
      ]
    },
    {
      "cell_type": "code",
      "execution_count": 429,
      "metadata": {},
      "outputs": [
        {
          "name": "stdout",
          "output_type": "stream",
          "text": [
            "[0]\ttest-rmse:139484.51832\n",
            "[1]\ttest-rmse:139367.85885\n",
            "[2]\ttest-rmse:201746.87628\n",
            "[3]\ttest-rmse:229906.29191\n",
            "[4]\ttest-rmse:255411.42513\n",
            "[5]\ttest-rmse:271264.31584\n",
            "[6]\ttest-rmse:280955.03430\n",
            "[7]\ttest-rmse:286813.37258\n",
            "[8]\ttest-rmse:290344.64179\n",
            "[9]\ttest-rmse:290356.26422\n",
            "[10]\ttest-rmse:290380.13172\n"
          ]
        }
      ],
      "source": [
        "dtrain=xgb.DMatrix(x_train, label=y_train)\n",
        "dtest=xgb.DMatrix(x_test, label=y_test)\n",
        "\n",
        "params={\n",
        "    \"objective\" : \"reg:squarederror\",\n",
        "    \"max_depth\" : 6,\n",
        "    \"eta\" : 0.8,\n",
        "    \"colsample_bytree\" : 0.8,\n",
        "    \"eval_metric\" : \"rmse\"\n",
        "}\n",
        "\n",
        "model = xgb.train(params, dtrain, num_boost_round=100,evals=[(dtest,\"test\")], early_stopping_rounds=10)"
      ]
    },
    {
      "cell_type": "code",
      "execution_count": 430,
      "metadata": {},
      "outputs": [],
      "source": [
        "y_pred = model.predict(dtest)"
      ]
    },
    {
      "cell_type": "code",
      "execution_count": 431,
      "metadata": {},
      "outputs": [
        {
          "name": "stdout",
          "output_type": "stream",
          "text": [
            "MSE: 290343.07051735115\n",
            "R2 Score: -222.75767517089844\n"
          ]
        },
        {
          "name": "stderr",
          "output_type": "stream",
          "text": [
            "/Library/Frameworks/Python.framework/Versions/3.13/lib/python3.13/site-packages/sklearn/metrics/_regression.py:492: FutureWarning: 'squared' is deprecated in version 1.4 and will be removed in 1.6. To calculate the root mean squared error, use the function'root_mean_squared_error'.\n",
            "  warnings.warn(\n"
          ]
        }
      ],
      "source": [
        "mse = mean_squared_error(y_test, y_pred, squared=False)\n",
        "r2=r2_score(y_test,y_pred)\n",
        "\n",
        "print(f\"MSE: {mse}\")\n",
        "print(f\"R2 Score: {r2}\")"
      ]
    },
    {
      "cell_type": "markdown",
      "metadata": {},
      "source": [
        "#  Hyperparameter Tuning"
      ]
    },
    {
      "cell_type": "code",
      "execution_count": 435,
      "metadata": {},
      "outputs": [
        {
          "name": "stdout",
          "output_type": "stream",
          "text": [
            "Fitting 5 folds for each of 324 candidates, totalling 1620 fits\n",
            "Best Parameters: {'colsample_bytree': 0.8, 'gamma': 0.1, 'learning_rate': 0.1, 'max_depth': 3, 'n_estimators': 300, 'subsample': 0.8}\n",
            "Best Cross-Validation Score (Negative MSE): 2204.841728757324\n",
            "Test R² Score: 0.9501617880842751\n",
            "Test Mean Squared Error (MSE): 1929.1721600797016\n"
          ]
        }
      ],
      "source": [
        "# Generate regression data\n",
        "X, y = make_regression(n_samples=1000, n_features=20, noise=0.1, random_state=42)\n",
        "X_train, X_test, y_train, y_test = train_test_split(X, y, test_size=0.2, random_state=42)\n",
        "\n",
        "#Define the model (XGBRegressor)\n",
        "model = XGBRegressor(random_state=42)\n",
        "\n",
        "# Define the hyperparameter grid\n",
        "param_grid = {\n",
        "    'n_estimators': [100, 200, 300],          # Number of boosting rounds (trees)\n",
        "    'learning_rate': [0.01, 0.1, 0.2],        # Learning rate (step size)\n",
        "    'max_depth': [3, 5, 7],                    # Maximum depth of a tree\n",
        "    'subsample': [0.8, 1.0],                   # Fraction of samples to use for fitting\n",
        "    'colsample_bytree': [0.8, 1.0],            # Fraction of features to use for each tree\n",
        "    'gamma': [0, 0.1, 0.2]                    # Minimum loss reduction required to make a further partition\n",
        "}\n",
        "\n",
        "# Set up GridSearchCV for hyperparameter tuning\n",
        "grid_search = GridSearchCV(estimator=model, param_grid=param_grid, cv=5, \n",
        "                           scoring='neg_mean_squared_error', verbose=1, n_jobs=-1)\n",
        "\n",
        "# Fit GridSearchCV\n",
        "grid_search.fit(X_train, y_train)\n",
        "\n",
        "# Print the best parameters and best cross-validation score\n",
        "print(\"Best Parameters:\", grid_search.best_params_)\n",
        "print(\"Best Cross-Validation Score (Negative MSE):\", -grid_search.best_score_)  # Convert negative MSE to positive\n",
        "\n",
        "# Get the best model from GridSearchCV\n",
        "best_model = grid_search.best_estimator_\n",
        "\n",
        "# Evaluate the model on the test data\n",
        "y_pred = best_model.predict(X_test)\n",
        "\n",
        "# Evaluate performance using R² and Mean Squared Error (MSE)\n",
        "r2 = r2_score(y_test, y_pred)\n",
        "mse = mean_squared_error(y_test, y_pred)\n",
        "\n",
        "print(f\"Test R² Score: {r2}\")\n",
        "print(f\"Test Mean Squared Error (MSE): {mse}\")\n"
      ]
    },
    {
      "cell_type": "code",
      "execution_count": null,
      "metadata": {},
      "outputs": [],
      "source": []
    }
  ],
  "metadata": {
    "colab": {
      "provenance": []
    },
    "kernelspec": {
      "display_name": "Python 3",
      "language": "python",
      "name": "python3"
    },
    "language_info": {
      "codemirror_mode": {
        "name": "ipython",
        "version": 3
      },
      "file_extension": ".py",
      "mimetype": "text/x-python",
      "name": "python",
      "nbconvert_exporter": "python",
      "pygments_lexer": "ipython3",
      "version": "3.13.0"
    }
  },
  "nbformat": 4,
  "nbformat_minor": 0
}
