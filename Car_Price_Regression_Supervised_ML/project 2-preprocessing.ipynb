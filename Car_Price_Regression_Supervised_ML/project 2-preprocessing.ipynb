{
 "cells": [
  {
   "cell_type": "code",
   "execution_count": 3,
   "id": "d6859481-68aa-4535-854f-b8545f6eafe3",
   "metadata": {},
   "outputs": [],
   "source": [
    "import pandas as pd \n",
    "import numpy as np\n",
    "import klib\n",
    "from sklearn.model_selection import train_test_split, KFold, cross_val_score\n",
    "from sklearn.linear_model import LinearRegression, LogisticRegression\n",
    "from sklearn.metrics import mean_squared_error, mean_absolute_error, r2_score\n",
    "from sklearn.preprocessing import StandardScaler, OneHotEncoder,LabelEncoder"
   ]
  },
  {
   "cell_type": "code",
   "execution_count": 4,
   "id": "f2e0e0c2-86f2-4716-b4ab-0546017f3f03",
   "metadata": {},
   "outputs": [],
   "source": [
    "df=pd.read_csv('Car price.csv')"
   ]
  },
  {
   "cell_type": "code",
   "execution_count": 5,
   "id": "9241da1a-0ce7-4da6-9413-8218585c4686",
   "metadata": {},
   "outputs": [
    {
     "name": "stdout",
     "output_type": "stream",
     "text": [
      "<class 'pandas.core.frame.DataFrame'>\n",
      "RangeIndex: 19237 entries, 0 to 19236\n",
      "Data columns (total 18 columns):\n",
      " #   Column            Non-Null Count  Dtype \n",
      "---  ------            --------------  ----- \n",
      " 0   ID                19237 non-null  int64 \n",
      " 1   Price             19237 non-null  int64 \n",
      " 2   Levy              19237 non-null  object\n",
      " 3   Manufacturer      19237 non-null  object\n",
      " 4   Model             19237 non-null  object\n",
      " 5   Prod. year        19237 non-null  int64 \n",
      " 6   Category          19237 non-null  object\n",
      " 7   Leather interior  19237 non-null  object\n",
      " 8   Fuel type         19237 non-null  object\n",
      " 9   Engine volume     19237 non-null  object\n",
      " 10  Mileage           19237 non-null  object\n",
      " 11  Cylinders         19237 non-null  int64 \n",
      " 12  Gear box type     19237 non-null  object\n",
      " 13  Drive wheels      19237 non-null  object\n",
      " 14  Doors             19237 non-null  object\n",
      " 15  Wheel             19237 non-null  object\n",
      " 16  Color             19237 non-null  object\n",
      " 17  Airbags           19237 non-null  int64 \n",
      "dtypes: int64(5), object(13)\n",
      "memory usage: 2.6+ MB\n"
     ]
    }
   ],
   "source": [
    "df.info()"
   ]
  },
  {
   "cell_type": "code",
   "execution_count": 8,
   "id": "0184cb54-1607-465d-9d4b-7c9b073b7d12",
   "metadata": {},
   "outputs": [
    {
     "data": {
      "text/html": [
       "<div>\n",
       "<style scoped>\n",
       "    .dataframe tbody tr th:only-of-type {\n",
       "        vertical-align: middle;\n",
       "    }\n",
       "\n",
       "    .dataframe tbody tr th {\n",
       "        vertical-align: top;\n",
       "    }\n",
       "\n",
       "    .dataframe thead th {\n",
       "        text-align: right;\n",
       "    }\n",
       "</style>\n",
       "<table border=\"1\" class=\"dataframe\">\n",
       "  <thead>\n",
       "    <tr style=\"text-align: right;\">\n",
       "      <th></th>\n",
       "      <th>ID</th>\n",
       "      <th>Price</th>\n",
       "      <th>Levy</th>\n",
       "      <th>Manufacturer</th>\n",
       "      <th>Model</th>\n",
       "      <th>Prod. year</th>\n",
       "      <th>Category</th>\n",
       "      <th>Leather interior</th>\n",
       "      <th>Fuel type</th>\n",
       "      <th>Engine volume</th>\n",
       "      <th>Mileage</th>\n",
       "      <th>Cylinders</th>\n",
       "      <th>Gear box type</th>\n",
       "      <th>Drive wheels</th>\n",
       "      <th>Doors</th>\n",
       "      <th>Wheel</th>\n",
       "      <th>Color</th>\n",
       "      <th>Airbags</th>\n",
       "    </tr>\n",
       "  </thead>\n",
       "  <tbody>\n",
       "    <tr>\n",
       "      <th>0</th>\n",
       "      <td>45654403</td>\n",
       "      <td>13328</td>\n",
       "      <td>1399</td>\n",
       "      <td>LEXUS</td>\n",
       "      <td>RX 450</td>\n",
       "      <td>2010</td>\n",
       "      <td>Jeep</td>\n",
       "      <td>Yes</td>\n",
       "      <td>Hybrid</td>\n",
       "      <td>3.5</td>\n",
       "      <td>186005 km</td>\n",
       "      <td>6</td>\n",
       "      <td>Automatic</td>\n",
       "      <td>4x4</td>\n",
       "      <td>04-May</td>\n",
       "      <td>Left wheel</td>\n",
       "      <td>Silver</td>\n",
       "      <td>12</td>\n",
       "    </tr>\n",
       "    <tr>\n",
       "      <th>1</th>\n",
       "      <td>44731507</td>\n",
       "      <td>16621</td>\n",
       "      <td>1018</td>\n",
       "      <td>CHEVROLET</td>\n",
       "      <td>Equinox</td>\n",
       "      <td>2011</td>\n",
       "      <td>Jeep</td>\n",
       "      <td>No</td>\n",
       "      <td>Petrol</td>\n",
       "      <td>3</td>\n",
       "      <td>192000 km</td>\n",
       "      <td>6</td>\n",
       "      <td>Tiptronic</td>\n",
       "      <td>4x4</td>\n",
       "      <td>04-May</td>\n",
       "      <td>Left wheel</td>\n",
       "      <td>Black</td>\n",
       "      <td>8</td>\n",
       "    </tr>\n",
       "    <tr>\n",
       "      <th>2</th>\n",
       "      <td>45774419</td>\n",
       "      <td>8467</td>\n",
       "      <td>-</td>\n",
       "      <td>HONDA</td>\n",
       "      <td>FIT</td>\n",
       "      <td>2006</td>\n",
       "      <td>Hatchback</td>\n",
       "      <td>No</td>\n",
       "      <td>Petrol</td>\n",
       "      <td>1.3</td>\n",
       "      <td>200000 km</td>\n",
       "      <td>4</td>\n",
       "      <td>Variator</td>\n",
       "      <td>Front</td>\n",
       "      <td>04-May</td>\n",
       "      <td>Right-hand drive</td>\n",
       "      <td>Black</td>\n",
       "      <td>2</td>\n",
       "    </tr>\n",
       "    <tr>\n",
       "      <th>3</th>\n",
       "      <td>45769185</td>\n",
       "      <td>3607</td>\n",
       "      <td>862</td>\n",
       "      <td>FORD</td>\n",
       "      <td>Escape</td>\n",
       "      <td>2011</td>\n",
       "      <td>Jeep</td>\n",
       "      <td>Yes</td>\n",
       "      <td>Hybrid</td>\n",
       "      <td>2.5</td>\n",
       "      <td>168966 km</td>\n",
       "      <td>4</td>\n",
       "      <td>Automatic</td>\n",
       "      <td>4x4</td>\n",
       "      <td>04-May</td>\n",
       "      <td>Left wheel</td>\n",
       "      <td>White</td>\n",
       "      <td>0</td>\n",
       "    </tr>\n",
       "    <tr>\n",
       "      <th>4</th>\n",
       "      <td>45809263</td>\n",
       "      <td>11726</td>\n",
       "      <td>446</td>\n",
       "      <td>HONDA</td>\n",
       "      <td>FIT</td>\n",
       "      <td>2014</td>\n",
       "      <td>Hatchback</td>\n",
       "      <td>Yes</td>\n",
       "      <td>Petrol</td>\n",
       "      <td>1.3</td>\n",
       "      <td>91901 km</td>\n",
       "      <td>4</td>\n",
       "      <td>Automatic</td>\n",
       "      <td>Front</td>\n",
       "      <td>04-May</td>\n",
       "      <td>Left wheel</td>\n",
       "      <td>Silver</td>\n",
       "      <td>4</td>\n",
       "    </tr>\n",
       "  </tbody>\n",
       "</table>\n",
       "</div>"
      ],
      "text/plain": [
       "         ID  Price  Levy Manufacturer    Model  Prod. year   Category  \\\n",
       "0  45654403  13328  1399        LEXUS   RX 450        2010       Jeep   \n",
       "1  44731507  16621  1018    CHEVROLET  Equinox        2011       Jeep   \n",
       "2  45774419   8467     -        HONDA      FIT        2006  Hatchback   \n",
       "3  45769185   3607   862         FORD   Escape        2011       Jeep   \n",
       "4  45809263  11726   446        HONDA      FIT        2014  Hatchback   \n",
       "\n",
       "  Leather interior Fuel type Engine volume    Mileage  Cylinders  \\\n",
       "0              Yes    Hybrid           3.5  186005 km          6   \n",
       "1               No    Petrol             3  192000 km          6   \n",
       "2               No    Petrol           1.3  200000 km          4   \n",
       "3              Yes    Hybrid           2.5  168966 km          4   \n",
       "4              Yes    Petrol           1.3   91901 km          4   \n",
       "\n",
       "  Gear box type Drive wheels   Doors             Wheel   Color  Airbags  \n",
       "0     Automatic          4x4  04-May        Left wheel  Silver       12  \n",
       "1     Tiptronic          4x4  04-May        Left wheel   Black        8  \n",
       "2      Variator        Front  04-May  Right-hand drive   Black        2  \n",
       "3     Automatic          4x4  04-May        Left wheel   White        0  \n",
       "4     Automatic        Front  04-May        Left wheel  Silver        4  "
      ]
     },
     "execution_count": 8,
     "metadata": {},
     "output_type": "execute_result"
    }
   ],
   "source": [
    "df.head()"
   ]
  },
  {
   "cell_type": "markdown",
   "id": "d3adc6ec-120c-4522-bf77-e71896c55959",
   "metadata": {},
   "source": [
    "# Tushib qolgan kataklar nectaligini tekshiramiz"
   ]
  },
  {
   "cell_type": "code",
   "execution_count": 12,
   "id": "40947463-95c8-4d1d-9b07-a97c9f539a51",
   "metadata": {},
   "outputs": [
    {
     "data": {
      "text/plain": [
       "ID                  0\n",
       "Price               0\n",
       "Levy                0\n",
       "Manufacturer        0\n",
       "Model               0\n",
       "Prod. year          0\n",
       "Category            0\n",
       "Leather interior    0\n",
       "Fuel type           0\n",
       "Engine volume       0\n",
       "Mileage             0\n",
       "Cylinders           0\n",
       "Gear box type       0\n",
       "Drive wheels        0\n",
       "Doors               0\n",
       "Wheel               0\n",
       "Color               0\n",
       "Airbags             0\n",
       "dtype: int64"
      ]
     },
     "execution_count": 12,
     "metadata": {},
     "output_type": "execute_result"
    }
   ],
   "source": [
    "df.isnull().sum()"
   ]
  },
  {
   "cell_type": "markdown",
   "id": "b3a7462b-7e87-4f76-8785-2c4c6a763613",
   "metadata": {},
   "source": [
    "# klib orqali duplicate valuelarni drop qilamiz va ustun nomlarini standardlashtirib olamiz"
   ]
  },
  {
   "cell_type": "code",
   "execution_count": 15,
   "id": "8be594e6-e2b7-4b95-8d4c-8f87055963b6",
   "metadata": {},
   "outputs": [
    {
     "name": "stdout",
     "output_type": "stream",
     "text": [
      "Shape of cleaned data: (18924, 18) - Remaining NAs: 0\n",
      "\n",
      "\n",
      "Dropped rows: 313\n",
      "     of which 313 duplicates. (Rows (first 150 shown): [425, 1581, 1697, 1972, 2131, 2268, 2373, 2437, 2450, 2923, 2968, 3026, 3383, 3433, 3525, 3598, 3604, 3859, 3919, 4035, 4182, 4278, 4298, 4398, 4403, 4509, 4732, 4752, 4756, 4862, 4984, 5121, 5174, 5194, 5246, 5328, 5331, 5350, 5354, 5455, 5477, 5572, 5653, 5716, 5778, 5919, 5942, 5989, 6030, 6037, 6071, 6101, 6120, 6138, 6189, 6249, 6291, 6732, 6776, 6847, 6849, 6871, 7035, 7112, 7138, 7269, 7274, 7347, 7406, 7411, 7444, 7796, 7814, 7838, 7848, 7850, 7932, 7944, 7949, 7986, 8177, 8240, 8281, 8437, 8495, 8590, 8657, 8717, 8730, 8765, 9059, 9081, 9120, 9196, 9274, 9275, 9301, 9399, 9779, 9799, 9816, 9824, 9847, 9921, 9965, 9987, 10078, 10081, 10143, 10152, 10264, 10309, 10338, 10339, 10442, 10457, 10513, 10536, 10542, 10604, 10825, 10915, 10925, 10973, 10976, 11020, 11029, 11162, 11209, 11499, 11525, 11528, 11578, 11698, 11729, 11988, 12021, 12025, 12053, 12072, 12090, 12099, 12114, 12240, 12389, 12407, 12434, 12447, 12501, 12520])\n",
      "\n",
      "Dropped columns: 0\n",
      "     of which 0 single valued.     Columns: []\n",
      "Dropped missing values: 0\n",
      "Reduced memory by at least: 1.89 MB (-71.59%)\n",
      "\n"
     ]
    }
   ],
   "source": [
    "df_cleaned=klib.data_cleaning(df)\n",
    "df=df_cleaned"
   ]
  },
  {
   "cell_type": "code",
   "execution_count": 17,
   "id": "d4d8fbd5-eb7e-41e0-93e7-91e2586f61dc",
   "metadata": {},
   "outputs": [
    {
     "name": "stdout",
     "output_type": "stream",
     "text": [
      "<class 'pandas.core.frame.DataFrame'>\n",
      "RangeIndex: 18924 entries, 0 to 18923\n",
      "Data columns (total 18 columns):\n",
      " #   Column            Non-Null Count  Dtype   \n",
      "---  ------            --------------  -----   \n",
      " 0   id                18924 non-null  int32   \n",
      " 1   price             18924 non-null  int32   \n",
      " 2   levy              18924 non-null  category\n",
      " 3   manufacturer      18924 non-null  category\n",
      " 4   model             18924 non-null  string  \n",
      " 5   prod_year         18924 non-null  int16   \n",
      " 6   category          18924 non-null  category\n",
      " 7   leather_interior  18924 non-null  category\n",
      " 8   fuel_type         18924 non-null  category\n",
      " 9   engine_volume     18924 non-null  category\n",
      " 10  mileage           18924 non-null  string  \n",
      " 11  cylinders         18924 non-null  int8    \n",
      " 12  gear_box_type     18924 non-null  category\n",
      " 13  drive_wheels      18924 non-null  category\n",
      " 14  doors             18924 non-null  category\n",
      " 15  wheel             18924 non-null  category\n",
      " 16  color             18924 non-null  category\n",
      " 17  airbags           18924 non-null  int8    \n",
      "dtypes: category(11), int16(1), int32(2), int8(2), string(2)\n",
      "memory usage: 769.5 KB\n"
     ]
    }
   ],
   "source": [
    "df.info()"
   ]
  },
  {
   "cell_type": "code",
   "execution_count": 19,
   "id": "d62075f7-bc07-4cb2-abb2-3e0b2c499499",
   "metadata": {},
   "outputs": [],
   "source": [
    "df['model'] = df['model'].astype('category')"
   ]
  },
  {
   "cell_type": "markdown",
   "id": "4de1c5fa-d230-422d-a224-fab898fb0601",
   "metadata": {},
   "source": [
    "# levy va engine_volume uchun unique valularni tekshirib kuramiz"
   ]
  },
  {
   "cell_type": "code",
   "execution_count": 22,
   "id": "10fbffca-32b1-47b5-9124-94c92cfa76e1",
   "metadata": {},
   "outputs": [
    {
     "data": {
      "text/plain": [
       "['1399', '1018', '-', '862', '446', ..., '2308', '4860', '1641', '1045', '1901']\n",
       "Length: 560\n",
       "Categories (560, object): ['-', '1011', '1016', '1017', ..., '993', '994', '997', 'HYUNDAI']"
      ]
     },
     "execution_count": 22,
     "metadata": {},
     "output_type": "execute_result"
    }
   ],
   "source": [
    "df['levy'].unique()"
   ]
  },
  {
   "cell_type": "markdown",
   "id": "3257de63-2c85-42b6-a733-48db01289850",
   "metadata": {},
   "source": [
    "# levydagi \"Hyundai\" va \"-\" larni mean orqali tuldirib ketamiz"
   ]
  },
  {
   "cell_type": "code",
   "execution_count": 25,
   "id": "5a086b4f-221c-440d-8d3a-29cf60649873",
   "metadata": {},
   "outputs": [],
   "source": [
    "df['levy'] = pd.to_numeric(df['levy'], errors='coerce')"
   ]
  },
  {
   "cell_type": "code",
   "execution_count": 27,
   "id": "4fc47713-625e-44ae-bbf9-dfe6146bdaa5",
   "metadata": {},
   "outputs": [],
   "source": [
    "urtacha_qiymat=df['levy'].mean()"
   ]
  },
  {
   "cell_type": "code",
   "execution_count": 29,
   "id": "36e7f1b9-d108-4a32-a45a-3704875bbdbd",
   "metadata": {},
   "outputs": [],
   "source": [
    "df['levy']=df['levy'].replace(['-', 'HYUNDAI'], urtacha_qiymat)"
   ]
  },
  {
   "cell_type": "code",
   "execution_count": 31,
   "id": "27802dab-6b71-48e7-9269-6606b3a80548",
   "metadata": {},
   "outputs": [
    {
     "data": {
      "text/plain": [
       "array([ 1399.,  1018.,    nan,   862.,   446.,   891.,   761.,   751.,\n",
       "         394.,  1053.,  1055.,  1079.,   810.,  2386.,  1850.,   531.,\n",
       "         586.,  1249.,  2455.,   583.,  1537.,  1288.,   915.,  1750.,\n",
       "         707.,  1077.,  1486.,  1091.,   650.,   382.,  1436.,  1194.,\n",
       "         503.,  1017.,  1104.,   639.,   629.,   919.,   781.,   530.,\n",
       "         640.,   777.,   779.,   934.,   769.,   645.,  1185.,  1324.,\n",
       "         830.,  1187.,  1111.,   760.,   642.,  1604.,  1095.,   966.,\n",
       "         473.,  1138.,  1811.,   988.,   765.,   917.,  1156.,   687.,\n",
       "       11714.,   836.,  1347.,  2866.,  1646.,   259.,   609.,   697.,\n",
       "         585.,   475.,   690.,   308.,  1823.,  1361.,  1273.,   924.,\n",
       "         584.,  2078.,   831.,  1172.,   893.,  1872.,  1885.,  1266.,\n",
       "         447.,  2148.,  1730.,   730.,   289.,   502.,   333.,  1325.,\n",
       "         247.,   879.,  1342.,  1327.,  1598.,  1514.,  1058.,   738.,\n",
       "        1935.,   481.,  1522.,  1282.,   456.,   880.,   900.,   798.,\n",
       "        1277.,   442.,  1051.,   790.,  1292.,  1047.,   528.,  1211.,\n",
       "        1493.,  1793.,   574.,   930.,  1998.,   271.,   706.,  1481.,\n",
       "        1677.,  1661.,  1286.,  1408.,  1090.,   595.,  1451.,  1267.,\n",
       "         993.,  1714.,   878.,   641.,   749.,  1511.,   603.,   353.,\n",
       "         877.,  1236.,  1141.,   397.,   784.,  1024.,  1357.,  1301.,\n",
       "         770.,   922.,  1438.,   753.,   607.,  1363.,   638.,   490.,\n",
       "         431.,   565.,   517.,   833.,   489.,  1760.,   986.,  1841.,\n",
       "        1620.,  1360.,   474.,  1099.,   978.,  1624.,  1946.,  1268.,\n",
       "        1307.,   696.,   649.,   666.,  2151.,   551.,   800.,   971.,\n",
       "        1323.,  2377.,  1845.,  1083.,   694.,   463.,   419.,   345.,\n",
       "        1515.,  1505.,  2056.,  1203.,   729.,   460.,  1356.,   876.,\n",
       "         911.,  1190.,   780.,   448.,  2410.,  1848.,  1148.,   834.,\n",
       "        1275.,  1028.,  1197.,   724.,   890.,  1705.,   505.,   789.,\n",
       "        2959.,   518.,   461.,  1719.,  2858.,  3156.,  2225.,  2177.,\n",
       "        1968.,  1888.,  1308.,  2736.,  1103.,   557.,  2195.,   843.,\n",
       "        1664.,   723.,  4508.,   562.,   501.,  2018.,  1076.,  1202.,\n",
       "        3301.,   691.,  1440.,  1869.,  1178.,   418.,  1820.,  1413.,\n",
       "         488.,  1304.,   363.,  2108.,   521.,  1659.,    87.,  1411.,\n",
       "        1528.,  3292.,  7058.,  1578.,   627.,   874.,  1996.,  1488.,\n",
       "        5679.,  1234.,  5603.,   400.,   889.,  3268.,   875.,   949.,\n",
       "        2265.,   441.,   742.,   425.,  2476.,  2971.,   614.,  1816.,\n",
       "        1375.,  1405.,  2297.,  1062.,  1113.,   420.,  2469.,   658.,\n",
       "        1951.,  2670.,  2578.,  1995.,  1032.,   994.,  1011.,  2421.,\n",
       "        1296.,   155.,   494.,   426.,  1086.,   961.,  2236.,  1829.,\n",
       "         764.,  1834.,  1054.,   617.,  1529.,  2266.,   637.,   626.,\n",
       "        1832.,  1016.,  2002.,  1756.,   746.,  1285.,  2690.,  1118.,\n",
       "        5332.,   980.,  1807.,   970.,  1228.,  1195.,  1132.,  1768.,\n",
       "        1384.,  1080.,  7063.,  1817.,  1452.,  1975.,  1368.,   702.,\n",
       "        1974.,  1781.,  1036.,   944.,   663.,   364.,  1539.,  1345.,\n",
       "        1680.,  2209.,   741.,  1575.,   695.,  1317.,   294.,  1525.,\n",
       "         424.,   997.,  1473.,  1552.,  2819.,  2188.,  1668.,  3057.,\n",
       "         799.,  1502.,  2606.,   552.,  1694.,  1759.,  1110.,   399.,\n",
       "        1470.,  1174.,  5877.,  1474.,  1688.,   526.,   686.,  5908.,\n",
       "        1107.,  2070.,  1468.,  1246.,  1685.,   556.,  1533.,  1917.,\n",
       "        1346.,   732.,   692.,   579.,   421.,   362.,  3505.,  1855.,\n",
       "        2711.,  1586.,  3739.,   681.,  1708.,  2278.,  1701.,   722.,\n",
       "        1482.,   928.,   827.,   832.,   527.,   604.,   173.,  1341.,\n",
       "        3329.,  1553.,   859.,   167.,   916.,   828.,  2082.,  1176.,\n",
       "        1108.,   975.,  3008.,  1516.,  2269.,  1699.,  2073.,  1031.,\n",
       "        1503.,  2364.,  1030.,  1442.,  5666.,  2715.,  1437.,  2067.,\n",
       "        1426.,  2908.,  1279.,   866.,  4283.,   279.,  2658.,  3015.,\n",
       "        2004.,  1391.,  4736.,   748.,  1466.,   644.,   683.,  2705.,\n",
       "        1297.,   731.,  1252.,  2216.,  3141.,  3273.,  1518.,  1723.,\n",
       "        1588.,   972.,   682.,  1094.,   668.,   175.,   967.,   402.,\n",
       "        3894.,  1960.,  1599.,  2000.,  2084.,  1621.,   714.,  1109.,\n",
       "        3989.,   873.,  1572.,  1163.,  1991.,  1716.,  1673.,  2562.,\n",
       "        2874.,   965.,   462.,   605.,  1948.,  1736.,  3518.,  2054.,\n",
       "        2467.,  1681.,  1272.,  1205.,   750.,  2156.,  2566.,   115.,\n",
       "         524.,  3184.,   676.,  1678.,   612.,   328.,   955.,  1441.,\n",
       "        1675.,  3965.,  2909.,   623.,   822.,   867.,  3025.,  1993.,\n",
       "         792.,   636.,  4057.,  3743.,  2337.,  2570.,  2418.,  2472.,\n",
       "        3910.,  1662.,  2123.,  2628.,  3208.,  2080.,  3699.,  2913.,\n",
       "         864.,  2505.,   870.,  7536.,  1924.,  1671.,  1064.,  1836.,\n",
       "        1866.,  4741.,   841.,  1369.,  5681.,  3112.,  1366.,  2223.,\n",
       "        1198.,  1039.,  3811.,  3571.,  1387.,  1171.,  1365.,  1531.,\n",
       "        1590., 11706.,  2308.,  4860.,  1641.,  1045.,  1901.])"
      ]
     },
     "execution_count": 31,
     "metadata": {},
     "output_type": "execute_result"
    }
   ],
   "source": [
    "df['levy'].unique()"
   ]
  },
  {
   "cell_type": "code",
   "execution_count": 33,
   "id": "11b496cc-954d-44cc-a54c-57f6ce98f7b6",
   "metadata": {},
   "outputs": [
    {
     "name": "stdout",
     "output_type": "stream",
     "text": [
      "<class 'pandas.core.frame.DataFrame'>\n",
      "RangeIndex: 18924 entries, 0 to 18923\n",
      "Data columns (total 18 columns):\n",
      " #   Column            Non-Null Count  Dtype   \n",
      "---  ------            --------------  -----   \n",
      " 0   id                18924 non-null  int32   \n",
      " 1   price             18924 non-null  int32   \n",
      " 2   levy              13214 non-null  float64 \n",
      " 3   manufacturer      18924 non-null  category\n",
      " 4   model             18924 non-null  category\n",
      " 5   prod_year         18924 non-null  int16   \n",
      " 6   category          18924 non-null  category\n",
      " 7   leather_interior  18924 non-null  category\n",
      " 8   fuel_type         18924 non-null  category\n",
      " 9   engine_volume     18924 non-null  category\n",
      " 10  mileage           18924 non-null  string  \n",
      " 11  cylinders         18924 non-null  int8    \n",
      " 12  gear_box_type     18924 non-null  category\n",
      " 13  drive_wheels      18924 non-null  category\n",
      " 14  doors             18924 non-null  category\n",
      " 15  wheel             18924 non-null  category\n",
      " 16  color             18924 non-null  category\n",
      " 17  airbags           18924 non-null  int8    \n",
      "dtypes: category(11), float64(1), int16(1), int32(2), int8(2), string(1)\n",
      "memory usage: 825.9 KB\n"
     ]
    }
   ],
   "source": [
    "df.info()"
   ]
  },
  {
   "cell_type": "code",
   "execution_count": 35,
   "id": "d7b7a39c-d345-4a21-9ad7-b2b8d2a75ee6",
   "metadata": {},
   "outputs": [],
   "source": [
    "df['levy']=df['levy'].fillna(df['levy'].mean())"
   ]
  },
  {
   "cell_type": "code",
   "execution_count": 37,
   "id": "ccc29d17-a4f4-4fdd-b47d-0f628227bd7c",
   "metadata": {},
   "outputs": [
    {
     "data": {
      "text/plain": [
       "id                  0\n",
       "price               0\n",
       "levy                0\n",
       "manufacturer        0\n",
       "model               0\n",
       "prod_year           0\n",
       "category            0\n",
       "leather_interior    0\n",
       "fuel_type           0\n",
       "engine_volume       0\n",
       "mileage             0\n",
       "cylinders           0\n",
       "gear_box_type       0\n",
       "drive_wheels        0\n",
       "doors               0\n",
       "wheel               0\n",
       "color               0\n",
       "airbags             0\n",
       "dtype: int64"
      ]
     },
     "execution_count": 37,
     "metadata": {},
     "output_type": "execute_result"
    }
   ],
   "source": [
    "df.isnull().sum()"
   ]
  },
  {
   "cell_type": "code",
   "execution_count": 39,
   "id": "f8439008-f5e5-4b4e-b72a-848b0c6e033d",
   "metadata": {},
   "outputs": [
    {
     "data": {
      "text/plain": [
       "['3.5',\n",
       " '3',\n",
       " '1.3',\n",
       " '2.5',\n",
       " '2',\n",
       " '1.8',\n",
       " '2.4',\n",
       " '4',\n",
       " '1.6',\n",
       " '3.3',\n",
       " '2.0 Turbo',\n",
       " '2.2 Turbo',\n",
       " '4.7',\n",
       " '1.5',\n",
       " '4.4',\n",
       " '3.0 Turbo',\n",
       " '1.4 Turbo',\n",
       " '3.6',\n",
       " '2.3',\n",
       " '1.5 Turbo',\n",
       " '1.6 Turbo',\n",
       " '2.2',\n",
       " '2.3 Turbo',\n",
       " '1.4',\n",
       " '5.5',\n",
       " '2.8 Turbo',\n",
       " '3.2',\n",
       " '3.8',\n",
       " '4.6',\n",
       " '1.2',\n",
       " '5',\n",
       " '1.7',\n",
       " '2.9',\n",
       " '0.5',\n",
       " '1.8 Turbo',\n",
       " '2.4 Turbo',\n",
       " '3.5 Turbo',\n",
       " '1.9',\n",
       " '2.7',\n",
       " '4.8',\n",
       " '5.3',\n",
       " '0.4',\n",
       " '2.8',\n",
       " '3.2 Turbo',\n",
       " '1.1',\n",
       " '2.1',\n",
       " '0.7',\n",
       " '5.4',\n",
       " '1.3 Turbo',\n",
       " '3.7',\n",
       " '1',\n",
       " '2.5 Turbo',\n",
       " '2.6',\n",
       " '1.9 Turbo',\n",
       " '4.4 Turbo',\n",
       " '4.7 Turbo',\n",
       " '0.8',\n",
       " '0.2 Turbo',\n",
       " '5.7',\n",
       " '4.8 Turbo',\n",
       " '4.6 Turbo',\n",
       " '6.7',\n",
       " '6.2',\n",
       " '1.2 Turbo',\n",
       " '3.4',\n",
       " '1.7 Turbo',\n",
       " '6.3 Turbo',\n",
       " '2.7 Turbo',\n",
       " '4.3',\n",
       " '4.2',\n",
       " '2.9 Turbo',\n",
       " '0',\n",
       " '4.0 Turbo',\n",
       " '20',\n",
       " '3.6 Turbo',\n",
       " '0.3',\n",
       " '3.7 Turbo',\n",
       " '5.9',\n",
       " '5.5 Turbo',\n",
       " '0.2',\n",
       " '2.1 Turbo',\n",
       " '5.6',\n",
       " '6',\n",
       " '0.7 Turbo',\n",
       " '0.6 Turbo',\n",
       " '6.8',\n",
       " '4.5',\n",
       " '0.6',\n",
       " '7.3',\n",
       " '0.1',\n",
       " '1.0 Turbo',\n",
       " '6.3',\n",
       " '4.5 Turbo',\n",
       " '0.8 Turbo',\n",
       " '4.2 Turbo',\n",
       " '3.1',\n",
       " '5.0 Turbo',\n",
       " '6.4',\n",
       " '3.9',\n",
       " '5.7 Turbo',\n",
       " '0.9',\n",
       " '0.4 Turbo',\n",
       " '5.4 Turbo',\n",
       " '0.3 Turbo',\n",
       " '5.2',\n",
       " '5.8',\n",
       " '1.1 Turbo']"
      ]
     },
     "execution_count": 39,
     "metadata": {},
     "output_type": "execute_result"
    }
   ],
   "source": [
    "df['engine_volume'].unique().tolist()"
   ]
  },
  {
   "cell_type": "markdown",
   "id": "9977b8f0-21b0-4ae5-827d-53d416b3edc4",
   "metadata": {},
   "source": [
    "# Bu qatorda Turbo suzini drop qilib yuboramiz"
   ]
  },
  {
   "cell_type": "code",
   "execution_count": 42,
   "id": "9e8b4277-af73-4ebf-9193-b1aa832eb483",
   "metadata": {},
   "outputs": [],
   "source": [
    "df['engine_volume']=df['engine_volume'].str.replace('Turbo', '', regex=False)"
   ]
  },
  {
   "cell_type": "code",
   "execution_count": 44,
   "id": "63ff3ffd-12c5-4ec4-bd8b-b277b3d8b3fe",
   "metadata": {},
   "outputs": [],
   "source": [
    "df['engine_volume'] = pd.to_numeric(df['engine_volume'], errors='coerce')"
   ]
  },
  {
   "cell_type": "code",
   "execution_count": 46,
   "id": "464ae751-d48c-4675-ae2c-2a1366aeb37c",
   "metadata": {},
   "outputs": [
    {
     "data": {
      "text/plain": [
       "array([ 3.5,  3. ,  1.3,  2.5,  2. ,  1.8,  2.4,  4. ,  1.6,  3.3,  2.2,\n",
       "        4.7,  1.5,  4.4,  1.4,  3.6,  2.3,  5.5,  2.8,  3.2,  3.8,  4.6,\n",
       "        1.2,  5. ,  1.7,  2.9,  0.5,  1.9,  2.7,  4.8,  5.3,  0.4,  1.1,\n",
       "        2.1,  0.7,  5.4,  3.7,  1. ,  2.6,  0.8,  0.2,  5.7,  6.7,  6.2,\n",
       "        3.4,  6.3,  4.3,  4.2,  0. , 20. ,  0.3,  5.9,  5.6,  6. ,  0.6,\n",
       "        6.8,  4.5,  7.3,  0.1,  3.1,  6.4,  3.9,  0.9,  5.2,  5.8])"
      ]
     },
     "execution_count": 46,
     "metadata": {},
     "output_type": "execute_result"
    }
   ],
   "source": [
    "df['engine_volume'].unique()"
   ]
  },
  {
   "cell_type": "code",
   "execution_count": 48,
   "id": "ef5d7a95-a5e3-46da-b001-16e381593222",
   "metadata": {},
   "outputs": [
    {
     "name": "stdout",
     "output_type": "stream",
     "text": [
      "<class 'pandas.core.frame.DataFrame'>\n",
      "RangeIndex: 18924 entries, 0 to 18923\n",
      "Data columns (total 18 columns):\n",
      " #   Column            Non-Null Count  Dtype   \n",
      "---  ------            --------------  -----   \n",
      " 0   id                18924 non-null  int32   \n",
      " 1   price             18924 non-null  int32   \n",
      " 2   levy              18924 non-null  float64 \n",
      " 3   manufacturer      18924 non-null  category\n",
      " 4   model             18924 non-null  category\n",
      " 5   prod_year         18924 non-null  int16   \n",
      " 6   category          18924 non-null  category\n",
      " 7   leather_interior  18924 non-null  category\n",
      " 8   fuel_type         18924 non-null  category\n",
      " 9   engine_volume     18924 non-null  float64 \n",
      " 10  mileage           18924 non-null  string  \n",
      " 11  cylinders         18924 non-null  int8    \n",
      " 12  gear_box_type     18924 non-null  category\n",
      " 13  drive_wheels      18924 non-null  category\n",
      " 14  doors             18924 non-null  category\n",
      " 15  wheel             18924 non-null  category\n",
      " 16  color             18924 non-null  category\n",
      " 17  airbags           18924 non-null  int8    \n",
      "dtypes: category(10), float64(2), int16(1), int32(2), int8(2), string(1)\n",
      "memory usage: 950.3 KB\n"
     ]
    }
   ],
   "source": [
    "df.info()"
   ]
  },
  {
   "cell_type": "markdown",
   "id": "1d05dc83-a84f-4931-9773-824e561f5241",
   "metadata": {},
   "source": [
    "# milage qatoridagi km belgisini tashlab yuboramiz"
   ]
  },
  {
   "cell_type": "code",
   "execution_count": 51,
   "id": "c2ab9ee1-761b-44e6-b018-b165292458e6",
   "metadata": {},
   "outputs": [],
   "source": [
    "df['mileage']=df['mileage'].str.replace('km', '', regex=False)"
   ]
  },
  {
   "cell_type": "code",
   "execution_count": 53,
   "id": "fc238bf0-004d-489f-aab3-c6a1ea6e5fc9",
   "metadata": {},
   "outputs": [],
   "source": [
    "df['mileage'] = pd.to_numeric(df['mileage'], errors='coerce')"
   ]
  },
  {
   "cell_type": "code",
   "execution_count": 55,
   "id": "0472a83e-065b-46e1-bf86-a4240dfaa44c",
   "metadata": {},
   "outputs": [
    {
     "data": {
      "text/plain": [
       "<IntegerArray>\n",
       "[186005, 192000, 200000, 168966,  91901, 160931, 258909, 216118, 398069,\n",
       " 128500,\n",
       " ...\n",
       " 135410,  18500,  52456,  65691, 158130,  23430, 132700, 140607, 307325,\n",
       " 186923]\n",
       "Length: 7687, dtype: Int64"
      ]
     },
     "execution_count": 55,
     "metadata": {},
     "output_type": "execute_result"
    }
   ],
   "source": [
    "df['mileage'].unique()"
   ]
  },
  {
   "cell_type": "code",
   "execution_count": 57,
   "id": "aa6a1cbb-dac2-4385-90a5-6eb2abdc15dd",
   "metadata": {},
   "outputs": [
    {
     "name": "stdout",
     "output_type": "stream",
     "text": [
      "<class 'pandas.core.frame.DataFrame'>\n",
      "RangeIndex: 18924 entries, 0 to 18923\n",
      "Data columns (total 18 columns):\n",
      " #   Column            Non-Null Count  Dtype   \n",
      "---  ------            --------------  -----   \n",
      " 0   id                18924 non-null  int32   \n",
      " 1   price             18924 non-null  int32   \n",
      " 2   levy              18924 non-null  float64 \n",
      " 3   manufacturer      18924 non-null  category\n",
      " 4   model             18924 non-null  category\n",
      " 5   prod_year         18924 non-null  int16   \n",
      " 6   category          18924 non-null  category\n",
      " 7   leather_interior  18924 non-null  category\n",
      " 8   fuel_type         18924 non-null  category\n",
      " 9   engine_volume     18924 non-null  float64 \n",
      " 10  mileage           18924 non-null  Int64   \n",
      " 11  cylinders         18924 non-null  int8    \n",
      " 12  gear_box_type     18924 non-null  category\n",
      " 13  drive_wheels      18924 non-null  category\n",
      " 14  doors             18924 non-null  category\n",
      " 15  wheel             18924 non-null  category\n",
      " 16  color             18924 non-null  category\n",
      " 17  airbags           18924 non-null  int8    \n",
      "dtypes: Int64(1), category(10), float64(2), int16(1), int32(2), int8(2)\n",
      "memory usage: 968.8 KB\n"
     ]
    }
   ],
   "source": [
    "df.info()"
   ]
  },
  {
   "cell_type": "markdown",
   "id": "6ddb758a-fd05-4fc5-86c4-b76a2aa23e50",
   "metadata": {},
   "source": [
    "# Standard encoding qilamiz"
   ]
  },
  {
   "cell_type": "code",
   "execution_count": 60,
   "id": "8ff0f361-5c41-450e-9b0e-d4f207f93103",
   "metadata": {},
   "outputs": [],
   "source": [
    "yozuvli_ustun=df.select_dtypes(include=['object','category']).columns"
   ]
  },
  {
   "cell_type": "code",
   "execution_count": 62,
   "id": "7ad928cd-b7fa-43bc-8a16-72a8fa3d1ae3",
   "metadata": {},
   "outputs": [
    {
     "data": {
      "text/plain": [
       "Index(['manufacturer', 'model', 'category', 'leather_interior', 'fuel_type',\n",
       "       'gear_box_type', 'drive_wheels', 'doors', 'wheel', 'color'],\n",
       "      dtype='object')"
      ]
     },
     "execution_count": 62,
     "metadata": {},
     "output_type": "execute_result"
    }
   ],
   "source": [
    "yozuvli_ustun"
   ]
  },
  {
   "cell_type": "code",
   "execution_count": 64,
   "id": "d9d9940f-87bf-453d-a943-50931ba39536",
   "metadata": {},
   "outputs": [
    {
     "name": "stdout",
     "output_type": "stream",
     "text": [
      "column manufacturer: 65\n",
      "column model: 1590\n",
      "column category: 11\n",
      "column leather_interior: 2\n",
      "column fuel_type: 8\n",
      "column gear_box_type: 4\n",
      "column drive_wheels: 3\n",
      "column doors: 3\n",
      "column wheel: 2\n",
      "column color: 16\n"
     ]
    }
   ],
   "source": [
    "for col in yozuvli_ustun:\n",
    "    print(f\"column {col}: {df[col].nunique()}\")"
   ]
  },
  {
   "cell_type": "code",
   "execution_count": 66,
   "id": "b4d549de-ec2b-4103-a5cf-0616a2a81ddc",
   "metadata": {},
   "outputs": [],
   "source": [
    "encoder=LabelEncoder()"
   ]
  },
  {
   "cell_type": "code",
   "execution_count": 68,
   "id": "05a0356e-e70c-4a91-8fc3-80225a12fa2e",
   "metadata": {},
   "outputs": [],
   "source": [
    "df[yozuvli_ustun]=df[yozuvli_ustun].apply(encoder.fit_transform)"
   ]
  },
  {
   "cell_type": "code",
   "execution_count": 70,
   "id": "89ab5767-c643-47fb-91ee-f4baae1852ca",
   "metadata": {},
   "outputs": [
    {
     "name": "stdout",
     "output_type": "stream",
     "text": [
      "<class 'pandas.core.frame.DataFrame'>\n",
      "RangeIndex: 18924 entries, 0 to 18923\n",
      "Data columns (total 18 columns):\n",
      " #   Column            Non-Null Count  Dtype  \n",
      "---  ------            --------------  -----  \n",
      " 0   id                18924 non-null  int32  \n",
      " 1   price             18924 non-null  int32  \n",
      " 2   levy              18924 non-null  float64\n",
      " 3   manufacturer      18924 non-null  int32  \n",
      " 4   model             18924 non-null  int32  \n",
      " 5   prod_year         18924 non-null  int16  \n",
      " 6   category          18924 non-null  int32  \n",
      " 7   leather_interior  18924 non-null  int32  \n",
      " 8   fuel_type         18924 non-null  int32  \n",
      " 9   engine_volume     18924 non-null  float64\n",
      " 10  mileage           18924 non-null  Int64  \n",
      " 11  cylinders         18924 non-null  int8   \n",
      " 12  gear_box_type     18924 non-null  int32  \n",
      " 13  drive_wheels      18924 non-null  int32  \n",
      " 14  doors             18924 non-null  int32  \n",
      " 15  wheel             18924 non-null  int32  \n",
      " 16  color             18924 non-null  int32  \n",
      " 17  airbags           18924 non-null  int8   \n",
      "dtypes: Int64(1), float64(2), int16(1), int32(12), int8(2)\n",
      "memory usage: 1.4 MB\n"
     ]
    }
   ],
   "source": [
    "df.info()"
   ]
  },
  {
   "cell_type": "code",
   "execution_count": 72,
   "id": "fce11c29-7964-4b72-a0e4-1048bba9b2dc",
   "metadata": {},
   "outputs": [
    {
     "data": {
      "text/html": [
       "<div>\n",
       "<style scoped>\n",
       "    .dataframe tbody tr th:only-of-type {\n",
       "        vertical-align: middle;\n",
       "    }\n",
       "\n",
       "    .dataframe tbody tr th {\n",
       "        vertical-align: top;\n",
       "    }\n",
       "\n",
       "    .dataframe thead th {\n",
       "        text-align: right;\n",
       "    }\n",
       "</style>\n",
       "<table border=\"1\" class=\"dataframe\">\n",
       "  <thead>\n",
       "    <tr style=\"text-align: right;\">\n",
       "      <th></th>\n",
       "      <th>id</th>\n",
       "      <th>price</th>\n",
       "      <th>levy</th>\n",
       "      <th>manufacturer</th>\n",
       "      <th>model</th>\n",
       "      <th>prod_year</th>\n",
       "      <th>category</th>\n",
       "      <th>leather_interior</th>\n",
       "      <th>fuel_type</th>\n",
       "      <th>engine_volume</th>\n",
       "      <th>mileage</th>\n",
       "      <th>cylinders</th>\n",
       "      <th>gear_box_type</th>\n",
       "      <th>drive_wheels</th>\n",
       "      <th>doors</th>\n",
       "      <th>wheel</th>\n",
       "      <th>color</th>\n",
       "      <th>airbags</th>\n",
       "    </tr>\n",
       "  </thead>\n",
       "  <tbody>\n",
       "    <tr>\n",
       "      <th>0</th>\n",
       "      <td>45654403</td>\n",
       "      <td>13328</td>\n",
       "      <td>1399.000000</td>\n",
       "      <td>32</td>\n",
       "      <td>1242</td>\n",
       "      <td>2010</td>\n",
       "      <td>4</td>\n",
       "      <td>1</td>\n",
       "      <td>3</td>\n",
       "      <td>3.5</td>\n",
       "      <td>186005</td>\n",
       "      <td>6</td>\n",
       "      <td>0</td>\n",
       "      <td>0</td>\n",
       "      <td>1</td>\n",
       "      <td>0</td>\n",
       "      <td>12</td>\n",
       "      <td>12</td>\n",
       "    </tr>\n",
       "    <tr>\n",
       "      <th>1</th>\n",
       "      <td>44731507</td>\n",
       "      <td>16621</td>\n",
       "      <td>1018.000000</td>\n",
       "      <td>8</td>\n",
       "      <td>658</td>\n",
       "      <td>2011</td>\n",
       "      <td>4</td>\n",
       "      <td>0</td>\n",
       "      <td>6</td>\n",
       "      <td>3.0</td>\n",
       "      <td>192000</td>\n",
       "      <td>6</td>\n",
       "      <td>2</td>\n",
       "      <td>0</td>\n",
       "      <td>1</td>\n",
       "      <td>0</td>\n",
       "      <td>1</td>\n",
       "      <td>8</td>\n",
       "    </tr>\n",
       "    <tr>\n",
       "      <th>2</th>\n",
       "      <td>45774419</td>\n",
       "      <td>8467</td>\n",
       "      <td>906.309899</td>\n",
       "      <td>21</td>\n",
       "      <td>684</td>\n",
       "      <td>2006</td>\n",
       "      <td>3</td>\n",
       "      <td>0</td>\n",
       "      <td>6</td>\n",
       "      <td>1.3</td>\n",
       "      <td>200000</td>\n",
       "      <td>4</td>\n",
       "      <td>3</td>\n",
       "      <td>1</td>\n",
       "      <td>1</td>\n",
       "      <td>1</td>\n",
       "      <td>1</td>\n",
       "      <td>2</td>\n",
       "    </tr>\n",
       "    <tr>\n",
       "      <th>3</th>\n",
       "      <td>45769185</td>\n",
       "      <td>3607</td>\n",
       "      <td>862.000000</td>\n",
       "      <td>16</td>\n",
       "      <td>661</td>\n",
       "      <td>2011</td>\n",
       "      <td>4</td>\n",
       "      <td>1</td>\n",
       "      <td>3</td>\n",
       "      <td>2.5</td>\n",
       "      <td>168966</td>\n",
       "      <td>4</td>\n",
       "      <td>0</td>\n",
       "      <td>0</td>\n",
       "      <td>1</td>\n",
       "      <td>0</td>\n",
       "      <td>14</td>\n",
       "      <td>0</td>\n",
       "    </tr>\n",
       "    <tr>\n",
       "      <th>4</th>\n",
       "      <td>45809263</td>\n",
       "      <td>11726</td>\n",
       "      <td>446.000000</td>\n",
       "      <td>21</td>\n",
       "      <td>684</td>\n",
       "      <td>2014</td>\n",
       "      <td>3</td>\n",
       "      <td>1</td>\n",
       "      <td>6</td>\n",
       "      <td>1.3</td>\n",
       "      <td>91901</td>\n",
       "      <td>4</td>\n",
       "      <td>0</td>\n",
       "      <td>1</td>\n",
       "      <td>1</td>\n",
       "      <td>0</td>\n",
       "      <td>12</td>\n",
       "      <td>4</td>\n",
       "    </tr>\n",
       "  </tbody>\n",
       "</table>\n",
       "</div>"
      ],
      "text/plain": [
       "         id  price         levy  manufacturer  model  prod_year  category  \\\n",
       "0  45654403  13328  1399.000000            32   1242       2010         4   \n",
       "1  44731507  16621  1018.000000             8    658       2011         4   \n",
       "2  45774419   8467   906.309899            21    684       2006         3   \n",
       "3  45769185   3607   862.000000            16    661       2011         4   \n",
       "4  45809263  11726   446.000000            21    684       2014         3   \n",
       "\n",
       "   leather_interior  fuel_type  engine_volume  mileage  cylinders  \\\n",
       "0                 1          3            3.5   186005          6   \n",
       "1                 0          6            3.0   192000          6   \n",
       "2                 0          6            1.3   200000          4   \n",
       "3                 1          3            2.5   168966          4   \n",
       "4                 1          6            1.3    91901          4   \n",
       "\n",
       "   gear_box_type  drive_wheels  doors  wheel  color  airbags  \n",
       "0              0             0      1      0     12       12  \n",
       "1              2             0      1      0      1        8  \n",
       "2              3             1      1      1      1        2  \n",
       "3              0             0      1      0     14        0  \n",
       "4              0             1      1      0     12        4  "
      ]
     },
     "execution_count": 72,
     "metadata": {},
     "output_type": "execute_result"
    }
   ],
   "source": [
    "df.head()"
   ]
  },
  {
   "cell_type": "code",
   "execution_count": 74,
   "id": "337c7691-fc23-431d-9cf2-18b29cc9b822",
   "metadata": {},
   "outputs": [
    {
     "name": "stdout",
     "output_type": "stream",
     "text": [
      "<class 'pandas.core.frame.DataFrame'>\n",
      "RangeIndex: 18924 entries, 0 to 18923\n",
      "Data columns (total 18 columns):\n",
      " #   Column            Non-Null Count  Dtype  \n",
      "---  ------            --------------  -----  \n",
      " 0   id                18924 non-null  int32  \n",
      " 1   price             18924 non-null  int32  \n",
      " 2   levy              18924 non-null  float64\n",
      " 3   manufacturer      18924 non-null  int32  \n",
      " 4   model             18924 non-null  int32  \n",
      " 5   prod_year         18924 non-null  int16  \n",
      " 6   category          18924 non-null  int32  \n",
      " 7   leather_interior  18924 non-null  int32  \n",
      " 8   fuel_type         18924 non-null  int32  \n",
      " 9   engine_volume     18924 non-null  float64\n",
      " 10  mileage           18924 non-null  Int64  \n",
      " 11  cylinders         18924 non-null  int8   \n",
      " 12  gear_box_type     18924 non-null  int32  \n",
      " 13  drive_wheels      18924 non-null  int32  \n",
      " 14  doors             18924 non-null  int32  \n",
      " 15  wheel             18924 non-null  int32  \n",
      " 16  color             18924 non-null  int32  \n",
      " 17  airbags           18924 non-null  int8   \n",
      "dtypes: Int64(1), float64(2), int16(1), int32(12), int8(2)\n",
      "memory usage: 1.4 MB\n"
     ]
    }
   ],
   "source": [
    "df.info()"
   ]
  },
  {
   "cell_type": "markdown",
   "id": "b5af7638-d0d1-4e36-8dd6-4619de620a8a",
   "metadata": {},
   "source": [
    "# Scaling qilamiz"
   ]
  },
  {
   "cell_type": "code",
   "execution_count": 77,
   "id": "626fe9b5-0af8-4e9f-abda-9292c7ebb26f",
   "metadata": {},
   "outputs": [],
   "source": [
    "scaler = StandardScaler()\n",
    "df_scaled = scaler.fit_transform(df)\n",
    "df = pd.DataFrame(df_scaled, columns=df.columns)\n"
   ]
  },
  {
   "cell_type": "code",
   "execution_count": 79,
   "id": "5d5ef99e-b43e-49d7-b40c-5d2922735b38",
   "metadata": {},
   "outputs": [
    {
     "name": "stdout",
     "output_type": "stream",
     "text": [
      "<class 'pandas.core.frame.DataFrame'>\n",
      "RangeIndex: 18924 entries, 0 to 18923\n",
      "Data columns (total 18 columns):\n",
      " #   Column            Non-Null Count  Dtype  \n",
      "---  ------            --------------  -----  \n",
      " 0   id                18924 non-null  float64\n",
      " 1   price             18924 non-null  float64\n",
      " 2   levy              18924 non-null  float64\n",
      " 3   manufacturer      18924 non-null  float64\n",
      " 4   model             18924 non-null  float64\n",
      " 5   prod_year         18924 non-null  float64\n",
      " 6   category          18924 non-null  float64\n",
      " 7   leather_interior  18924 non-null  float64\n",
      " 8   fuel_type         18924 non-null  float64\n",
      " 9   engine_volume     18924 non-null  float64\n",
      " 10  mileage           18924 non-null  float64\n",
      " 11  cylinders         18924 non-null  float64\n",
      " 12  gear_box_type     18924 non-null  float64\n",
      " 13  drive_wheels      18924 non-null  float64\n",
      " 14  doors             18924 non-null  float64\n",
      " 15  wheel             18924 non-null  float64\n",
      " 16  color             18924 non-null  float64\n",
      " 17  airbags           18924 non-null  float64\n",
      "dtypes: float64(18)\n",
      "memory usage: 2.6 MB\n"
     ]
    }
   ],
   "source": [
    "df.info()"
   ]
  },
  {
   "cell_type": "code",
   "execution_count": 81,
   "id": "e4e95584-56a6-480a-805b-d343e5929137",
   "metadata": {},
   "outputs": [
    {
     "data": {
      "text/html": [
       "<div>\n",
       "<style scoped>\n",
       "    .dataframe tbody tr th:only-of-type {\n",
       "        vertical-align: middle;\n",
       "    }\n",
       "\n",
       "    .dataframe tbody tr th {\n",
       "        vertical-align: top;\n",
       "    }\n",
       "\n",
       "    .dataframe thead th {\n",
       "        text-align: right;\n",
       "    }\n",
       "</style>\n",
       "<table border=\"1\" class=\"dataframe\">\n",
       "  <thead>\n",
       "    <tr style=\"text-align: right;\">\n",
       "      <th></th>\n",
       "      <th>id</th>\n",
       "      <th>price</th>\n",
       "      <th>levy</th>\n",
       "      <th>manufacturer</th>\n",
       "      <th>model</th>\n",
       "      <th>prod_year</th>\n",
       "      <th>category</th>\n",
       "      <th>leather_interior</th>\n",
       "      <th>fuel_type</th>\n",
       "      <th>engine_volume</th>\n",
       "      <th>mileage</th>\n",
       "      <th>cylinders</th>\n",
       "      <th>gear_box_type</th>\n",
       "      <th>drive_wheels</th>\n",
       "      <th>doors</th>\n",
       "      <th>wheel</th>\n",
       "      <th>color</th>\n",
       "      <th>airbags</th>\n",
       "    </tr>\n",
       "  </thead>\n",
       "  <tbody>\n",
       "    <tr>\n",
       "      <th>0</th>\n",
       "      <td>0.084288</td>\n",
       "      <td>-0.027374</td>\n",
       "      <td>1.272639</td>\n",
       "      <td>-0.061132</td>\n",
       "      <td>0.924073</td>\n",
       "      <td>-0.161366</td>\n",
       "      <td>-0.811930</td>\n",
       "      <td>0.614976</td>\n",
       "      <td>-0.789735</td>\n",
       "      <td>1.360292</td>\n",
       "      <td>-0.028060</td>\n",
       "      <td>1.182965</td>\n",
       "      <td>-0.599184</td>\n",
       "      <td>-1.605608</td>\n",
       "      <td>0.158708</td>\n",
       "      <td>-0.288386</td>\n",
       "      <td>0.788503</td>\n",
       "      <td>1.256677</td>\n",
       "    </tr>\n",
       "    <tr>\n",
       "      <th>1</th>\n",
       "      <td>-0.900111</td>\n",
       "      <td>-0.010235</td>\n",
       "      <td>0.288500</td>\n",
       "      <td>-1.410441</td>\n",
       "      <td>-0.496921</td>\n",
       "      <td>0.015138</td>\n",
       "      <td>-0.811930</td>\n",
       "      <td>-1.626080</td>\n",
       "      <td>0.870937</td>\n",
       "      <td>0.790536</td>\n",
       "      <td>-0.027937</td>\n",
       "      <td>1.182965</td>\n",
       "      <td>1.630041</td>\n",
       "      <td>-1.605608</td>\n",
       "      <td>0.158708</td>\n",
       "      <td>-0.288386</td>\n",
       "      <td>-1.263042</td>\n",
       "      <td>0.331224</td>\n",
       "    </tr>\n",
       "    <tr>\n",
       "      <th>2</th>\n",
       "      <td>0.212302</td>\n",
       "      <td>-0.052675</td>\n",
       "      <td>0.000000</td>\n",
       "      <td>-0.679565</td>\n",
       "      <td>-0.433657</td>\n",
       "      <td>-0.867381</td>\n",
       "      <td>-1.170113</td>\n",
       "      <td>-1.626080</td>\n",
       "      <td>0.870937</td>\n",
       "      <td>-1.146637</td>\n",
       "      <td>-0.027774</td>\n",
       "      <td>-0.483436</td>\n",
       "      <td>2.744654</td>\n",
       "      <td>0.159395</td>\n",
       "      <td>0.158708</td>\n",
       "      <td>3.467577</td>\n",
       "      <td>-1.263042</td>\n",
       "      <td>-1.056955</td>\n",
       "    </tr>\n",
       "    <tr>\n",
       "      <th>3</th>\n",
       "      <td>0.206719</td>\n",
       "      <td>-0.077970</td>\n",
       "      <td>-0.114454</td>\n",
       "      <td>-0.960671</td>\n",
       "      <td>-0.489621</td>\n",
       "      <td>0.015138</td>\n",
       "      <td>-0.811930</td>\n",
       "      <td>0.614976</td>\n",
       "      <td>-0.789735</td>\n",
       "      <td>0.220779</td>\n",
       "      <td>-0.028409</td>\n",
       "      <td>-0.483436</td>\n",
       "      <td>-0.599184</td>\n",
       "      <td>-1.605608</td>\n",
       "      <td>0.158708</td>\n",
       "      <td>-0.288386</td>\n",
       "      <td>1.161511</td>\n",
       "      <td>-1.519681</td>\n",
       "    </tr>\n",
       "    <tr>\n",
       "      <th>4</th>\n",
       "      <td>0.249468</td>\n",
       "      <td>-0.035712</td>\n",
       "      <td>-1.189000</td>\n",
       "      <td>-0.679565</td>\n",
       "      <td>-0.433657</td>\n",
       "      <td>0.544649</td>\n",
       "      <td>-1.170113</td>\n",
       "      <td>0.614976</td>\n",
       "      <td>0.870937</td>\n",
       "      <td>-1.146637</td>\n",
       "      <td>-0.029989</td>\n",
       "      <td>-0.483436</td>\n",
       "      <td>-0.599184</td>\n",
       "      <td>0.159395</td>\n",
       "      <td>0.158708</td>\n",
       "      <td>-0.288386</td>\n",
       "      <td>0.788503</td>\n",
       "      <td>-0.594228</td>\n",
       "    </tr>\n",
       "  </tbody>\n",
       "</table>\n",
       "</div>"
      ],
      "text/plain": [
       "         id     price      levy  manufacturer     model  prod_year  category  \\\n",
       "0  0.084288 -0.027374  1.272639     -0.061132  0.924073  -0.161366 -0.811930   \n",
       "1 -0.900111 -0.010235  0.288500     -1.410441 -0.496921   0.015138 -0.811930   \n",
       "2  0.212302 -0.052675  0.000000     -0.679565 -0.433657  -0.867381 -1.170113   \n",
       "3  0.206719 -0.077970 -0.114454     -0.960671 -0.489621   0.015138 -0.811930   \n",
       "4  0.249468 -0.035712 -1.189000     -0.679565 -0.433657   0.544649 -1.170113   \n",
       "\n",
       "   leather_interior  fuel_type  engine_volume   mileage  cylinders  \\\n",
       "0          0.614976  -0.789735       1.360292 -0.028060   1.182965   \n",
       "1         -1.626080   0.870937       0.790536 -0.027937   1.182965   \n",
       "2         -1.626080   0.870937      -1.146637 -0.027774  -0.483436   \n",
       "3          0.614976  -0.789735       0.220779 -0.028409  -0.483436   \n",
       "4          0.614976   0.870937      -1.146637 -0.029989  -0.483436   \n",
       "\n",
       "   gear_box_type  drive_wheels     doors     wheel     color   airbags  \n",
       "0      -0.599184     -1.605608  0.158708 -0.288386  0.788503  1.256677  \n",
       "1       1.630041     -1.605608  0.158708 -0.288386 -1.263042  0.331224  \n",
       "2       2.744654      0.159395  0.158708  3.467577 -1.263042 -1.056955  \n",
       "3      -0.599184     -1.605608  0.158708 -0.288386  1.161511 -1.519681  \n",
       "4      -0.599184      0.159395  0.158708 -0.288386  0.788503 -0.594228  "
      ]
     },
     "execution_count": 81,
     "metadata": {},
     "output_type": "execute_result"
    }
   ],
   "source": [
    "df.head()"
   ]
  },
  {
   "cell_type": "code",
   "execution_count": null,
   "id": "f8df4416-4ef6-49a8-9a23-deb0220530e1",
   "metadata": {},
   "outputs": [],
   "source": []
  },
  {
   "cell_type": "code",
   "execution_count": null,
   "id": "7c814f88-a9c1-477d-a6cc-9508d41bd171",
   "metadata": {},
   "outputs": [],
   "source": []
  }
 ],
 "metadata": {
  "kernelspec": {
   "display_name": "Python [conda env:base] *",
   "language": "python",
   "name": "conda-base-py"
  },
  "language_info": {
   "codemirror_mode": {
    "name": "ipython",
    "version": 3
   },
   "file_extension": ".py",
   "mimetype": "text/x-python",
   "name": "python",
   "nbconvert_exporter": "python",
   "pygments_lexer": "ipython3",
   "version": "3.12.7"
  }
 },
 "nbformat": 4,
 "nbformat_minor": 5
}
